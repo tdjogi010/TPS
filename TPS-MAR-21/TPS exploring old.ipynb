{
 "cells": [
  {
   "cell_type": "code",
   "execution_count": 1,
   "id": "cleared-syria",
   "metadata": {},
   "outputs": [
    {
     "name": "stdout",
     "output_type": "stream",
     "text": [
      "(300000, 32)\n",
      "Index(['id', 'cat0', 'cat1', 'cat2', 'cat3', 'cat4', 'cat5', 'cat6', 'cat7',\n",
      "       'cat8', 'cat9', 'cat10', 'cat11', 'cat12', 'cat13', 'cat14', 'cat15',\n",
      "       'cat16', 'cat17', 'cat18', 'cont0', 'cont1', 'cont2', 'cont3', 'cont4',\n",
      "       'cont5', 'cont6', 'cont7', 'cont8', 'cont9', 'cont10', 'target'],\n",
      "      dtype='object')\n",
      "id        False\n",
      "cat0      False\n",
      "cat1      False\n",
      "cat2      False\n",
      "cat3      False\n",
      "cat4      False\n",
      "cat5      False\n",
      "cat6      False\n",
      "cat7      False\n",
      "cat8      False\n",
      "cat9      False\n",
      "cat10     False\n",
      "cat11     False\n",
      "cat12     False\n",
      "cat13     False\n",
      "cat14     False\n",
      "cat15     False\n",
      "cat16     False\n",
      "cat17     False\n",
      "cat18     False\n",
      "cont0     False\n",
      "cont1     False\n",
      "cont2     False\n",
      "cont3     False\n",
      "cont4     False\n",
      "cont5     False\n",
      "cont6     False\n",
      "cont7     False\n",
      "cont8     False\n",
      "cont9     False\n",
      "cont10    False\n",
      "target    False\n",
      "dtype: bool\n",
      "id        False\n",
      "cat0      False\n",
      "cat1      False\n",
      "cat2      False\n",
      "cat3      False\n",
      "cat4      False\n",
      "cat5      False\n",
      "cat6      False\n",
      "cat7      False\n",
      "cat8      False\n",
      "cat9      False\n",
      "cat10     False\n",
      "cat11     False\n",
      "cat12     False\n",
      "cat13     False\n",
      "cat14     False\n",
      "cat15     False\n",
      "cat16     False\n",
      "cat17     False\n",
      "cat18     False\n",
      "cont0     False\n",
      "cont1     False\n",
      "cont2     False\n",
      "cont3     False\n",
      "cont4     False\n",
      "cont5     False\n",
      "cont6     False\n",
      "cont7     False\n",
      "cont8     False\n",
      "cont9     False\n",
      "cont10    False\n",
      "target    False\n",
      "dtype: bool\n"
     ]
    }
   ],
   "source": [
    "import pandas as pd\n",
    "\n",
    "df_train = pd.read_csv(\"train.csv\")\n",
    "# print(df_train.describe())\n",
    "print(df_train.shape)\n",
    "print(df_train.columns)\n",
    "# print(df_train)\n",
    "print(df_train.isnull().any())\n",
    "print(df_train.isna().any())"
   ]
  },
  {
   "cell_type": "code",
   "execution_count": 2,
   "id": "hispanic-going",
   "metadata": {},
   "outputs": [
    {
     "name": "stdout",
     "output_type": "stream",
     "text": [
      "0    220539\n",
      "1     79461\n",
      "Name: target, dtype: int64\n"
     ]
    }
   ],
   "source": [
    "# print(df_train)\n",
    "print(df_train[\"target\"].value_counts())"
   ]
  },
  {
   "cell_type": "code",
   "execution_count": 4,
   "id": "imported-ribbon",
   "metadata": {},
   "outputs": [
    {
     "name": "stdout",
     "output_type": "stream",
     "text": [
      "['cat0', 'cat1', 'cat2', 'cat3', 'cat4', 'cat5', 'cat6', 'cat7', 'cat8', 'cat9', 'cat10', 'cat11', 'cat12', 'cat13', 'cat14', 'cat15', 'cat16', 'cat17', 'cat18', 'cont0', 'cont1', 'cont2', 'cont3', 'cont4', 'cont5', 'cont6', 'cont7', 'cont8', 'cont9', 'cont10'] ['cat0', 'cat1', 'cat2', 'cat3', 'cat4', 'cat5', 'cat6', 'cat7', 'cat8', 'cat9', 'cat10', 'cat11', 'cat12', 'cat13', 'cat14', 'cat15', 'cat16', 'cat17', 'cat18'] ['cont0', 'cont1', 'cont2', 'cont3', 'cont4', 'cont5', 'cont6', 'cont7', 'cont8', 'cont9', 'cont10'] 30\n"
     ]
    }
   ],
   "source": [
    "features = [f for f in df_train.columns if f not in [\"id\", \"target\"]]\n",
    "cat_features = [f for f in features if f.startswith(\"cat\") == True]\n",
    "cont_features = [f for f in features if f.startswith(\"cat\") == False]\n",
    "print(features, cat_features, cont_features, len(features))"
   ]
  },
  {
   "cell_type": "code",
   "execution_count": 10,
   "id": "enabling-mitchell",
   "metadata": {},
   "outputs": [],
   "source": [
    "import itertools\n",
    "def feature_engineering(df, cat_cols):\n",
    "    \"\"\"\n",
    "    This function is used for feature engineering\n",
    "    :param df: the pandas dataframe with train/test data\n",
    "    :param cat_cols: list of categorical columns\n",
    "    :return: dataframe with new features\n",
    "    \"\"\"\n",
    "    # this will create all 2-combinations of values\n",
    "    # in this list\n",
    "    # for example:\n",
    "    # list(itertools.combinations([1,2,3], 2)) will return\n",
    "    # [(1, 2), (1, 3), (2, 3)]\n",
    "    combi = list(itertools.combinations(cat_cols, 2))\n",
    "    for c1, c2 in combi:\n",
    "         df.loc[:,c1 + \"_\" + c2] = df[c1].astype(str) + \"_\" + df[c2].astype(str)\n",
    "    return df"
   ]
  },
  {
   "cell_type": "code",
   "execution_count": 12,
   "id": "japanese-editor",
   "metadata": {},
   "outputs": [
    {
     "data": {
      "text/plain": [
       "Index(['id', 'cat0', 'cat1', 'cat2', 'cat3', 'cat4', 'cat5', 'cat6', 'cat7',\n",
       "       'cat8',\n",
       "       ...\n",
       "       'cat14_cat15', 'cat14_cat16', 'cat14_cat17', 'cat14_cat18',\n",
       "       'cat15_cat16', 'cat15_cat17', 'cat15_cat18', 'cat16_cat17',\n",
       "       'cat16_cat18', 'cat17_cat18'],\n",
       "      dtype='object', length=203)"
      ]
     },
     "execution_count": 12,
     "metadata": {},
     "output_type": "execute_result"
    }
   ],
   "source": [
    "feature_engineering(df_train, cat_features)\n",
    "df_train.columns"
   ]
  },
  {
   "cell_type": "code",
   "execution_count": 19,
   "id": "genetic-heritage",
   "metadata": {},
   "outputs": [
    {
     "name": "stdout",
     "output_type": "stream",
     "text": [
      "['cat0_cat1', 'cat0_cat2', 'cat0_cat3', 'cat0_cat4', 'cat0_cat5', 'cat0_cat6', 'cat0_cat7', 'cat0_cat8', 'cat0_cat9', 'cat0_cat10', 'cat0_cat11', 'cat0_cat12', 'cat0_cat13', 'cat0_cat14', 'cat0_cat15', 'cat0_cat16', 'cat0_cat17', 'cat0_cat18', 'cat1_cat2', 'cat1_cat3', 'cat1_cat4', 'cat1_cat5', 'cat1_cat6', 'cat1_cat7', 'cat1_cat8', 'cat1_cat9', 'cat1_cat10', 'cat1_cat11', 'cat1_cat12', 'cat1_cat13', 'cat1_cat14', 'cat1_cat15', 'cat1_cat16', 'cat1_cat17', 'cat1_cat18', 'cat2_cat3', 'cat2_cat4', 'cat2_cat5', 'cat2_cat6', 'cat2_cat7', 'cat2_cat8', 'cat2_cat9', 'cat2_cat10', 'cat2_cat11', 'cat2_cat12', 'cat2_cat13', 'cat2_cat14', 'cat2_cat15', 'cat2_cat16', 'cat2_cat17', 'cat2_cat18', 'cat3_cat4', 'cat3_cat5', 'cat3_cat6', 'cat3_cat7', 'cat3_cat8', 'cat3_cat9', 'cat3_cat10', 'cat3_cat11', 'cat3_cat12', 'cat3_cat13', 'cat3_cat14', 'cat3_cat15', 'cat3_cat16', 'cat3_cat17', 'cat3_cat18', 'cat4_cat5', 'cat4_cat6', 'cat4_cat7', 'cat4_cat8', 'cat4_cat9', 'cat4_cat10', 'cat4_cat11', 'cat4_cat12', 'cat4_cat13', 'cat4_cat14', 'cat4_cat15', 'cat4_cat16', 'cat4_cat17', 'cat4_cat18', 'cat5_cat6', 'cat5_cat7', 'cat5_cat8', 'cat5_cat9', 'cat5_cat10', 'cat5_cat11', 'cat5_cat12', 'cat5_cat13', 'cat5_cat14', 'cat5_cat15', 'cat5_cat16', 'cat5_cat17', 'cat5_cat18', 'cat6_cat7', 'cat6_cat8', 'cat6_cat9', 'cat6_cat10', 'cat6_cat11', 'cat6_cat12', 'cat6_cat13', 'cat6_cat14', 'cat6_cat15', 'cat6_cat16', 'cat6_cat17', 'cat6_cat18', 'cat7_cat8', 'cat7_cat9', 'cat7_cat10', 'cat7_cat11', 'cat7_cat12', 'cat7_cat13', 'cat7_cat14', 'cat7_cat15', 'cat7_cat16', 'cat7_cat17', 'cat7_cat18', 'cat8_cat9', 'cat8_cat10', 'cat8_cat11', 'cat8_cat12', 'cat8_cat13', 'cat8_cat14', 'cat8_cat15', 'cat8_cat16', 'cat8_cat17', 'cat8_cat18', 'cat9_cat10', 'cat9_cat11', 'cat9_cat12', 'cat9_cat13', 'cat9_cat14', 'cat9_cat15', 'cat9_cat16', 'cat9_cat17', 'cat9_cat18', 'cat10_cat11', 'cat10_cat12', 'cat10_cat13', 'cat10_cat14', 'cat10_cat15', 'cat10_cat16', 'cat10_cat17', 'cat10_cat18', 'cat11_cat12', 'cat11_cat13', 'cat11_cat14', 'cat11_cat15', 'cat11_cat16', 'cat11_cat17', 'cat11_cat18', 'cat12_cat13', 'cat12_cat14', 'cat12_cat15', 'cat12_cat16', 'cat12_cat17', 'cat12_cat18', 'cat13_cat14', 'cat13_cat15', 'cat13_cat16', 'cat13_cat17', 'cat13_cat18', 'cat14_cat15', 'cat14_cat16', 'cat14_cat17', 'cat14_cat18', 'cat15_cat16', 'cat15_cat17', 'cat15_cat18', 'cat16_cat17', 'cat16_cat18', 'cat17_cat18']\n"
     ]
    }
   ],
   "source": [
    "add_cat_features = [f for f in df_train.columns if f.startswith(\"cat\") == True and f not in cat_features ] \n",
    "print(add_cat_features)"
   ]
  },
  {
   "cell_type": "code",
   "execution_count": 5,
   "id": "loved-saudi",
   "metadata": {
    "scrolled": true
   },
   "outputs": [
    {
     "name": "stdout",
     "output_type": "stream",
     "text": [
      "0          0\n",
      "1          0\n",
      "2          0\n",
      "3          0\n",
      "4          6\n",
      "          ..\n",
      "299995     5\n",
      "299996     0\n",
      "299997    12\n",
      "299998     0\n",
      "299999     2\n",
      "Name: cat2, Length: 300000, dtype: int64\n"
     ]
    }
   ],
   "source": [
    "from sklearn import preprocessing\n",
    "\n",
    "for f in df_train.columns:\n",
    "    if f.startswith(\"cat\"):\n",
    "        le = preprocessing.LabelEncoder()\n",
    "        df_train.loc[:, f] = le.fit_transform(df_train.loc[:, f])\n",
    "        \n",
    "print(df_train[features[2]])\n",
    "# print(df_train[\"cat14_cat16\"])"
   ]
  },
  {
   "cell_type": "code",
   "execution_count": 24,
   "id": "armed-campus",
   "metadata": {},
   "outputs": [
    {
     "name": "stdout",
     "output_type": "stream",
     "text": [
      "[18:59:20] WARNING: ../src/learner.cc:1061: Starting in XGBoost 1.3.0, the default evaluation metric used with the objective 'binary:logistic' was changed from 'error' to 'logloss'. Explicitly set eval_metric if you'd like to restore the old behavior.\n",
      "['cat0_cat5', 'cat0_cat16', 'cat0_cat17', 'cat1_cat4', 'cat1_cat14', 'cat4_cat11', 'cat4_cat12', 'cat4_cat13', 'cat4_cat14', 'cat11_cat13', 'cat11_cat15', 'cat13_cat15', 'cat13_cat16', 'cat14_cat15', 'cat14_cat18', 'cat15_cat18', 'cat16_cat17']\n"
     ]
    }
   ],
   "source": [
    "import xgboost as xgb\n",
    "from sklearn.feature_selection import SelectFromModel\n",
    "\n",
    "col_names = cat_features + add_cat_features\n",
    "model =  xgb.XGBClassifier(n_jobs=-1, use_label_encoder=False)\n",
    "sfm = SelectFromModel(estimator=model)\n",
    "X_transformed = sfm.fit_transform(df_train.loc[:, col_names], df_train[\"target\"])\n",
    "# see which features were selected\n",
    "support = sfm.get_support()\n",
    "# get feature names\n",
    "add_cat_selected_features = [x for x, y in zip(col_names, support) if y == True]\n",
    "print(add_cat_selected_features)"
   ]
  },
  {
   "cell_type": "code",
   "execution_count": 17,
   "id": "ready-plumbing",
   "metadata": {},
   "outputs": [
    {
     "name": "stdout",
     "output_type": "stream",
     "text": [
      "[18:09:41] WARNING: ../src/learner.cc:1061: Starting in XGBoost 1.3.0, the default evaluation metric used with the objective 'binary:logistic' was changed from 'error' to 'logloss'. Explicitly set eval_metric if you'd like to restore the old behavior.\n",
      "['cat0', 'cat15', 'cat16', 'cat18']\n"
     ]
    }
   ],
   "source": [
    "import xgboost as xgb\n",
    "from sklearn.feature_selection import SelectFromModel\n",
    "\n",
    "col_names = cat_features\n",
    "model =  xgb.XGBClassifier(n_jobs=-1, use_label_encoder=False)\n",
    "sfm = SelectFromModel(estimator=model)\n",
    "X_transformed = sfm.fit_transform(df_train.loc[:, col_names], df_train[\"target\"])\n",
    "# see which features were selected\n",
    "support = sfm.get_support()\n",
    "# get feature names\n",
    "print([\n",
    " x for x, y in zip(col_names, support) if y == True\n",
    "])"
   ]
  },
  {
   "cell_type": "code",
   "execution_count": 30,
   "id": "eleven-escape",
   "metadata": {},
   "outputs": [
    {
     "ename": "ValueError",
     "evalue": "No feature in X meets the variance threshold 10.00000",
     "output_type": "error",
     "traceback": [
      "\u001b[0;31m---------------------------------------------------------------------------\u001b[0m",
      "\u001b[0;31mValueError\u001b[0m                                Traceback (most recent call last)",
      "\u001b[0;32m<ipython-input-30-1397eb56d891>\u001b[0m in \u001b[0;36m<module>\u001b[0;34m\u001b[0m\n\u001b[1;32m      3\u001b[0m \u001b[0;32mfrom\u001b[0m \u001b[0msklearn\u001b[0m\u001b[0;34m.\u001b[0m\u001b[0mfeature_selection\u001b[0m \u001b[0;32mimport\u001b[0m \u001b[0mVarianceThreshold\u001b[0m\u001b[0;34m\u001b[0m\u001b[0;34m\u001b[0m\u001b[0m\n\u001b[1;32m      4\u001b[0m \u001b[0mvar_thresh\u001b[0m \u001b[0;34m=\u001b[0m \u001b[0mVarianceThreshold\u001b[0m\u001b[0;34m(\u001b[0m\u001b[0mthreshold\u001b[0m\u001b[0;34m=\u001b[0m\u001b[0;36m10\u001b[0m\u001b[0;34m)\u001b[0m\u001b[0;34m\u001b[0m\u001b[0;34m\u001b[0m\u001b[0m\n\u001b[0;32m----> 5\u001b[0;31m \u001b[0mtransformed_data\u001b[0m \u001b[0;34m=\u001b[0m \u001b[0mvar_thresh\u001b[0m\u001b[0;34m.\u001b[0m\u001b[0mfit_transform\u001b[0m\u001b[0;34m(\u001b[0m\u001b[0mdf_train\u001b[0m\u001b[0;34m.\u001b[0m\u001b[0mloc\u001b[0m\u001b[0;34m[\u001b[0m\u001b[0;34m:\u001b[0m\u001b[0;34m,\u001b[0m \u001b[0;34m[\u001b[0m\u001b[0mf\u001b[0m \u001b[0;32mfor\u001b[0m \u001b[0mf\u001b[0m \u001b[0;32min\u001b[0m \u001b[0mfeatures\u001b[0m \u001b[0;32mif\u001b[0m \u001b[0mf\u001b[0m\u001b[0;34m.\u001b[0m\u001b[0mstartswith\u001b[0m\u001b[0;34m(\u001b[0m\u001b[0;34m\"cat\"\u001b[0m\u001b[0;34m)\u001b[0m \u001b[0;34m==\u001b[0m \u001b[0;32mFalse\u001b[0m\u001b[0;34m]\u001b[0m\u001b[0;34m]\u001b[0m\u001b[0;34m)\u001b[0m\u001b[0;34m\u001b[0m\u001b[0;34m\u001b[0m\u001b[0m\n\u001b[0m\u001b[1;32m      6\u001b[0m \u001b[0mprint\u001b[0m\u001b[0;34m(\u001b[0m\u001b[0mdf_train\u001b[0m\u001b[0;34m.\u001b[0m\u001b[0mshape\u001b[0m\u001b[0;34m,\u001b[0m \u001b[0mtransformed_data\u001b[0m\u001b[0;34m.\u001b[0m\u001b[0mshape\u001b[0m\u001b[0;34m)\u001b[0m\u001b[0;34m\u001b[0m\u001b[0;34m\u001b[0m\u001b[0m\n\u001b[1;32m      7\u001b[0m \u001b[0mprint\u001b[0m\u001b[0;34m(\u001b[0m\u001b[0mtransformed_data\u001b[0m\u001b[0;34m)\u001b[0m\u001b[0;34m\u001b[0m\u001b[0;34m\u001b[0m\u001b[0m\n",
      "\u001b[0;32m~/miniconda3/envs/TPS-MAR/lib/python3.9/site-packages/sklearn/base.py\u001b[0m in \u001b[0;36mfit_transform\u001b[0;34m(self, X, y, **fit_params)\u001b[0m\n\u001b[1;32m    697\u001b[0m         \u001b[0;32mif\u001b[0m \u001b[0my\u001b[0m \u001b[0;32mis\u001b[0m \u001b[0;32mNone\u001b[0m\u001b[0;34m:\u001b[0m\u001b[0;34m\u001b[0m\u001b[0;34m\u001b[0m\u001b[0m\n\u001b[1;32m    698\u001b[0m             \u001b[0;31m# fit method of arity 1 (unsupervised transformation)\u001b[0m\u001b[0;34m\u001b[0m\u001b[0;34m\u001b[0m\u001b[0;34m\u001b[0m\u001b[0m\n\u001b[0;32m--> 699\u001b[0;31m             \u001b[0;32mreturn\u001b[0m \u001b[0mself\u001b[0m\u001b[0;34m.\u001b[0m\u001b[0mfit\u001b[0m\u001b[0;34m(\u001b[0m\u001b[0mX\u001b[0m\u001b[0;34m,\u001b[0m \u001b[0;34m**\u001b[0m\u001b[0mfit_params\u001b[0m\u001b[0;34m)\u001b[0m\u001b[0;34m.\u001b[0m\u001b[0mtransform\u001b[0m\u001b[0;34m(\u001b[0m\u001b[0mX\u001b[0m\u001b[0;34m)\u001b[0m\u001b[0;34m\u001b[0m\u001b[0;34m\u001b[0m\u001b[0m\n\u001b[0m\u001b[1;32m    700\u001b[0m         \u001b[0;32melse\u001b[0m\u001b[0;34m:\u001b[0m\u001b[0;34m\u001b[0m\u001b[0;34m\u001b[0m\u001b[0m\n\u001b[1;32m    701\u001b[0m             \u001b[0;31m# fit method of arity 2 (supervised transformation)\u001b[0m\u001b[0;34m\u001b[0m\u001b[0;34m\u001b[0m\u001b[0;34m\u001b[0m\u001b[0m\n",
      "\u001b[0;32m~/miniconda3/envs/TPS-MAR/lib/python3.9/site-packages/sklearn/feature_selection/_variance_threshold.py\u001b[0m in \u001b[0;36mfit\u001b[0;34m(self, X, y)\u001b[0m\n\u001b[1;32m     91\u001b[0m             \u001b[0;32mif\u001b[0m \u001b[0mX\u001b[0m\u001b[0;34m.\u001b[0m\u001b[0mshape\u001b[0m\u001b[0;34m[\u001b[0m\u001b[0;36m0\u001b[0m\u001b[0;34m]\u001b[0m \u001b[0;34m==\u001b[0m \u001b[0;36m1\u001b[0m\u001b[0;34m:\u001b[0m\u001b[0;34m\u001b[0m\u001b[0;34m\u001b[0m\u001b[0m\n\u001b[1;32m     92\u001b[0m                 \u001b[0mmsg\u001b[0m \u001b[0;34m+=\u001b[0m \u001b[0;34m\" (X contains only one sample)\"\u001b[0m\u001b[0;34m\u001b[0m\u001b[0;34m\u001b[0m\u001b[0m\n\u001b[0;32m---> 93\u001b[0;31m             \u001b[0;32mraise\u001b[0m \u001b[0mValueError\u001b[0m\u001b[0;34m(\u001b[0m\u001b[0mmsg\u001b[0m\u001b[0;34m.\u001b[0m\u001b[0mformat\u001b[0m\u001b[0;34m(\u001b[0m\u001b[0mself\u001b[0m\u001b[0;34m.\u001b[0m\u001b[0mthreshold\u001b[0m\u001b[0;34m)\u001b[0m\u001b[0;34m)\u001b[0m\u001b[0;34m\u001b[0m\u001b[0;34m\u001b[0m\u001b[0m\n\u001b[0m\u001b[1;32m     94\u001b[0m \u001b[0;34m\u001b[0m\u001b[0m\n\u001b[1;32m     95\u001b[0m         \u001b[0;32mreturn\u001b[0m \u001b[0mself\u001b[0m\u001b[0;34m\u001b[0m\u001b[0;34m\u001b[0m\u001b[0m\n",
      "\u001b[0;31mValueError\u001b[0m: No feature in X meets the variance threshold 10.00000"
     ]
    }
   ],
   "source": [
    "# seeing indivisual column variance\n",
    "\n",
    "from sklearn.feature_selection import VarianceThreshold\n",
    "var_thresh = VarianceThreshold(threshold=10)\n",
    "transformed_data = var_thresh.fit_transform(df_train.loc[:, [f for f in features if f.startswith(\"cat\") == False]])\n",
    "print(df_train.shape, transformed_data.shape)\n",
    "print(transformed_data)\n",
    "\n",
    "# categorial values are not expected to have a lot of variance\n",
    "# continuous values have good amount of variance # guess should normalise first"
   ]
  },
  {
   "cell_type": "code",
   "execution_count": 11,
   "id": "continuing-reconstruction",
   "metadata": {},
   "outputs": [
    {
     "data": {
      "image/png": "[encoded data removed]",
      "text/plain": [
       "<Figure size 1080x720 with 2 Axes>"
      ]
     },
     "metadata": {
      "needs_background": "light"
     },
     "output_type": "display_data"
    },
    {
     "data": {
      "text/html": [
       "<div>\n",
       "<style scoped>\n",
       "    .dataframe tbody tr th:only-of-type {\n",
       "        vertical-align: middle;\n",
       "    }\n",
       "\n",
       "    .dataframe tbody tr th {\n",
       "        vertical-align: top;\n",
       "    }\n",
       "\n",
       "    .dataframe thead th {\n",
       "        text-align: right;\n",
       "    }\n",
       "</style>\n",
       "<table border=\"1\" class=\"dataframe\">\n",
       "  <thead>\n",
       "    <tr style=\"text-align: right;\">\n",
       "      <th></th>\n",
       "      <th>cont0</th>\n",
       "      <th>cont1</th>\n",
       "      <th>cont2</th>\n",
       "      <th>cont3</th>\n",
       "      <th>cont4</th>\n",
       "      <th>cont5</th>\n",
       "      <th>cont6</th>\n",
       "      <th>cont7</th>\n",
       "      <th>cont8</th>\n",
       "      <th>cont9</th>\n",
       "      <th>cont10</th>\n",
       "    </tr>\n",
       "  </thead>\n",
       "  <tbody>\n",
       "    <tr>\n",
       "      <th>cont0</th>\n",
       "      <td>1.000000</td>\n",
       "      <td>0.474046</td>\n",
       "      <td>0.494622</td>\n",
       "      <td>0.549246</td>\n",
       "      <td>0.155805</td>\n",
       "      <td>-0.169393</td>\n",
       "      <td>-0.436555</td>\n",
       "      <td>0.740377</td>\n",
       "      <td>0.367794</td>\n",
       "      <td>0.414758</td>\n",
       "      <td>0.807896</td>\n",
       "    </tr>\n",
       "    <tr>\n",
       "      <th>cont1</th>\n",
       "      <td>0.474046</td>\n",
       "      <td>1.000000</td>\n",
       "      <td>0.861623</td>\n",
       "      <td>0.256854</td>\n",
       "      <td>0.133988</td>\n",
       "      <td>0.185838</td>\n",
       "      <td>0.116296</td>\n",
       "      <td>0.581201</td>\n",
       "      <td>0.672587</td>\n",
       "      <td>0.393313</td>\n",
       "      <td>0.471084</td>\n",
       "    </tr>\n",
       "    <tr>\n",
       "      <th>cont2</th>\n",
       "      <td>0.494622</td>\n",
       "      <td>0.861623</td>\n",
       "      <td>1.000000</td>\n",
       "      <td>0.286822</td>\n",
       "      <td>0.158749</td>\n",
       "      <td>0.158240</td>\n",
       "      <td>0.066997</td>\n",
       "      <td>0.606447</td>\n",
       "      <td>0.662832</td>\n",
       "      <td>0.399063</td>\n",
       "      <td>0.506684</td>\n",
       "    </tr>\n",
       "    <tr>\n",
       "      <th>cont3</th>\n",
       "      <td>0.549246</td>\n",
       "      <td>0.256854</td>\n",
       "      <td>0.286822</td>\n",
       "      <td>1.000000</td>\n",
       "      <td>0.222817</td>\n",
       "      <td>-0.068856</td>\n",
       "      <td>-0.429911</td>\n",
       "      <td>0.641923</td>\n",
       "      <td>0.188794</td>\n",
       "      <td>0.383062</td>\n",
       "      <td>0.611307</td>\n",
       "    </tr>\n",
       "    <tr>\n",
       "      <th>cont4</th>\n",
       "      <td>0.155805</td>\n",
       "      <td>0.133988</td>\n",
       "      <td>0.158749</td>\n",
       "      <td>0.222817</td>\n",
       "      <td>1.000000</td>\n",
       "      <td>0.037509</td>\n",
       "      <td>-0.081020</td>\n",
       "      <td>0.231526</td>\n",
       "      <td>0.064836</td>\n",
       "      <td>0.161150</td>\n",
       "      <td>0.208428</td>\n",
       "    </tr>\n",
       "    <tr>\n",
       "      <th>cont5</th>\n",
       "      <td>-0.169393</td>\n",
       "      <td>0.185838</td>\n",
       "      <td>0.158240</td>\n",
       "      <td>-0.068856</td>\n",
       "      <td>0.037509</td>\n",
       "      <td>1.000000</td>\n",
       "      <td>0.439221</td>\n",
       "      <td>-0.094008</td>\n",
       "      <td>0.141199</td>\n",
       "      <td>0.120901</td>\n",
       "      <td>-0.160551</td>\n",
       "    </tr>\n",
       "    <tr>\n",
       "      <th>cont6</th>\n",
       "      <td>-0.436555</td>\n",
       "      <td>0.116296</td>\n",
       "      <td>0.066997</td>\n",
       "      <td>-0.429911</td>\n",
       "      <td>-0.081020</td>\n",
       "      <td>0.439221</td>\n",
       "      <td>1.000000</td>\n",
       "      <td>-0.361585</td>\n",
       "      <td>0.123390</td>\n",
       "      <td>-0.125960</td>\n",
       "      <td>-0.443371</td>\n",
       "    </tr>\n",
       "    <tr>\n",
       "      <th>cont7</th>\n",
       "      <td>0.740377</td>\n",
       "      <td>0.581201</td>\n",
       "      <td>0.606447</td>\n",
       "      <td>0.641923</td>\n",
       "      <td>0.231526</td>\n",
       "      <td>-0.094008</td>\n",
       "      <td>-0.361585</td>\n",
       "      <td>1.000000</td>\n",
       "      <td>0.479203</td>\n",
       "      <td>0.443322</td>\n",
       "      <td>0.775453</td>\n",
       "    </tr>\n",
       "    <tr>\n",
       "      <th>cont8</th>\n",
       "      <td>0.367794</td>\n",
       "      <td>0.672587</td>\n",
       "      <td>0.662832</td>\n",
       "      <td>0.188794</td>\n",
       "      <td>0.064836</td>\n",
       "      <td>0.141199</td>\n",
       "      <td>0.123390</td>\n",
       "      <td>0.479203</td>\n",
       "      <td>1.000000</td>\n",
       "      <td>0.293181</td>\n",
       "      <td>0.382051</td>\n",
       "    </tr>\n",
       "    <tr>\n",
       "      <th>cont9</th>\n",
       "      <td>0.414758</td>\n",
       "      <td>0.393313</td>\n",
       "      <td>0.399063</td>\n",
       "      <td>0.383062</td>\n",
       "      <td>0.161150</td>\n",
       "      <td>0.120901</td>\n",
       "      <td>-0.125960</td>\n",
       "      <td>0.443322</td>\n",
       "      <td>0.293181</td>\n",
       "      <td>1.000000</td>\n",
       "      <td>0.452508</td>\n",
       "    </tr>\n",
       "    <tr>\n",
       "      <th>cont10</th>\n",
       "      <td>0.807896</td>\n",
       "      <td>0.471084</td>\n",
       "      <td>0.506684</td>\n",
       "      <td>0.611307</td>\n",
       "      <td>0.208428</td>\n",
       "      <td>-0.160551</td>\n",
       "      <td>-0.443371</td>\n",
       "      <td>0.775453</td>\n",
       "      <td>0.382051</td>\n",
       "      <td>0.452508</td>\n",
       "      <td>1.000000</td>\n",
       "    </tr>\n",
       "  </tbody>\n",
       "</table>\n",
       "</div>"
      ],
      "text/plain": [
       "           cont0     cont1     cont2     cont3     cont4     cont5     cont6  \\\n",
       "cont0   1.000000  0.474046  0.494622  0.549246  0.155805 -0.169393 -0.436555   \n",
       "cont1   0.474046  1.000000  0.861623  0.256854  0.133988  0.185838  0.116296   \n",
       "cont2   0.494622  0.861623  1.000000  0.286822  0.158749  0.158240  0.066997   \n",
       "cont3   0.549246  0.256854  0.286822  1.000000  0.222817 -0.068856 -0.429911   \n",
       "cont4   0.155805  0.133988  0.158749  0.222817  1.000000  0.037509 -0.081020   \n",
       "cont5  -0.169393  0.185838  0.158240 -0.068856  0.037509  1.000000  0.439221   \n",
       "cont6  -0.436555  0.116296  0.066997 -0.429911 -0.081020  0.439221  1.000000   \n",
       "cont7   0.740377  0.581201  0.606447  0.641923  0.231526 -0.094008 -0.361585   \n",
       "cont8   0.367794  0.672587  0.662832  0.188794  0.064836  0.141199  0.123390   \n",
       "cont9   0.414758  0.393313  0.399063  0.383062  0.161150  0.120901 -0.125960   \n",
       "cont10  0.807896  0.471084  0.506684  0.611307  0.208428 -0.160551 -0.443371   \n",
       "\n",
       "           cont7     cont8     cont9    cont10  \n",
       "cont0   0.740377  0.367794  0.414758  0.807896  \n",
       "cont1   0.581201  0.672587  0.393313  0.471084  \n",
       "cont2   0.606447  0.662832  0.399063  0.506684  \n",
       "cont3   0.641923  0.188794  0.383062  0.611307  \n",
       "cont4   0.231526  0.064836  0.161150  0.208428  \n",
       "cont5  -0.094008  0.141199  0.120901 -0.160551  \n",
       "cont6  -0.361585  0.123390 -0.125960 -0.443371  \n",
       "cont7   1.000000  0.479203  0.443322  0.775453  \n",
       "cont8   0.479203  1.000000  0.293181  0.382051  \n",
       "cont9   0.443322  0.293181  1.000000  0.452508  \n",
       "cont10  0.775453  0.382051  0.452508  1.000000  "
      ]
     },
     "execution_count": 11,
     "metadata": {},
     "output_type": "execute_result"
    }
   ],
   "source": [
    "import seaborn as sns\n",
    "import matplotlib.pyplot as plt\n",
    "correlation = df_train.loc[:, [f for f in features if f.startswith(\"cat\") == False]].corr()\n",
    "\n",
    "plt.figure(figsize=(15,10))\n",
    "sns.heatmap(correlation, annot=True,cmap='RdYlGn',linewidths=0.2,  vmin=-1, vmax=1)\n",
    "plt.show()\n",
    "correlation"
   ]
  },
  {
   "cell_type": "code",
   "execution_count": 72,
   "id": "banned-circus",
   "metadata": {},
   "outputs": [
    {
     "name": "stdout",
     "output_type": "stream",
     "text": [
      "['cat15', 'cat16']\n"
     ]
    }
   ],
   "source": [
    "from sklearn.feature_selection import chi2, f_classif, mutual_info_classif, SelectKBest, SelectPercentile\n",
    "\n",
    "ff = cat_features\n",
    "selection = SelectPercentile(chi2, percentile=10)\n",
    "transformed = selection.fit_transform(df_train[ff], df_train[\"target\"])\n",
    "print([ff[f] for f in selection.get_support(True)])\n",
    "# selection.transform(df_train[ff])"
   ]
  },
  {
   "cell_type": "code",
   "execution_count": 7,
   "id": "seven-catch",
   "metadata": {
    "scrolled": true
   },
   "outputs": [
    {
     "name": "stdout",
     "output_type": "stream",
     "text": [
      "(225000, 30) (75000, 30)\n"
     ]
    }
   ],
   "source": [
    "from sklearn.model_selection import train_test_split\n",
    "\n",
    "x_train, x_test, y_train, y_test = train_test_split(df_train.loc[:, features], df_train.loc[:, \"target\"], random_state=10, stratify=df_train.loc[:, \"target\"])\n",
    "\n",
    "print(x_train.shape, x_test.shape)"
   ]
  },
  {
   "cell_type": "code",
   "execution_count": 8,
   "id": "incorporate-anniversary",
   "metadata": {},
   "outputs": [],
   "source": [
    "from sklearn import metrics\n",
    "def auc_train_test(model, x_train, x_test, y_train, y_test):\n",
    "    model.fit(x_train, y_train)\n",
    "    preds = model.predict_proba(x_test)[:, 1]\n",
    "    return metrics.roc_auc_score(y_test, preds)"
   ]
  },
  {
   "cell_type": "code",
   "execution_count": 31,
   "id": "architectural-chocolate",
   "metadata": {},
   "outputs": [
    {
     "name": "stdout",
     "output_type": "stream",
     "text": [
      "[19:07:03] WARNING: ../src/learner.cc:1061: Starting in XGBoost 1.3.0, the default evaluation metric used with the objective 'binary:logistic' was changed from 'error' to 'logloss'. Explicitly set eval_metric if you'd like to restore the old behavior.\n",
      "0.882766649400548\n",
      "[19:07:05] WARNING: ../src/learner.cc:1061: Starting in XGBoost 1.3.0, the default evaluation metric used with the objective 'binary:logistic' was changed from 'error' to 'logloss'. Explicitly set eval_metric if you'd like to restore the old behavior.\n",
      "0.8824294111305543\n",
      "[19:07:17] WARNING: ../src/learner.cc:1061: Starting in XGBoost 1.3.0, the default evaluation metric used with the objective 'binary:logistic' was changed from 'error' to 'logloss'. Explicitly set eval_metric if you'd like to restore the old behavior.\n",
      "0.8712277511362574\n",
      "[19:07:20] WARNING: ../src/learner.cc:1061: Starting in XGBoost 1.3.0, the default evaluation metric used with the objective 'binary:logistic' was changed from 'error' to 'logloss'. Explicitly set eval_metric if you'd like to restore the old behavior.\n",
      "0.8827382117768685\n"
     ]
    }
   ],
   "source": [
    "model1 = xgb.XGBClassifier(n_jobs=-1, use_label_encoder=False)\n",
    "model2 = xgb.XGBClassifier(n_jobs=-1, use_label_encoder=False)\n",
    "model3 = xgb.XGBClassifier(n_jobs=-1, use_label_encoder=False)\n",
    "model4 = xgb.XGBClassifier(n_jobs=-1, use_label_encoder=False)\n",
    "print(auc_train_test(model1, x_train.loc[:, cat_features], x_test.loc[:, cat_features], y_train, y_test))\n",
    "print(auc_train_test(model2, x_train.loc[:, add_cat_features], x_test.loc[:, add_cat_features], y_train, y_test))\n",
    "print(auc_train_test(model3, x_train.loc[:, add_cat_selected_features], x_test.loc[:, add_cat_selected_features], y_train, y_test))\n",
    "print(auc_train_test(model4, x_train.loc[:, cat_features + add_cat_selected_features], x_test.loc[:,cat_features +  add_cat_selected_features], y_train, y_test))"
   ]
  },
  {
   "cell_type": "code",
   "execution_count": 32,
   "id": "attempted-starter",
   "metadata": {
    "scrolled": true
   },
   "outputs": [
    {
     "name": "stdout",
     "output_type": "stream",
     "text": [
      "[19:09:30] WARNING: ../src/learner.cc:1061: Starting in XGBoost 1.3.0, the default evaluation metric used with the objective 'binary:logistic' was changed from 'error' to 'logloss'. Explicitly set eval_metric if you'd like to restore the old behavior.\n",
      "0.888381623569505\n"
     ]
    }
   ],
   "source": [
    "model5 = xgb.XGBClassifier(n_jobs=-1, use_label_encoder=False)\n",
    "print(auc_train_test(model5, x_train.loc[:, cat_features + add_cat_selected_features + cont_features], x_test.loc[:,cat_features +  add_cat_selected_features +cont_features ], y_train, y_test))"
   ]
  },
  {
   "cell_type": "code",
   "execution_count": 33,
   "id": "cardiac-pizza",
   "metadata": {},
   "outputs": [
    {
     "name": "stdout",
     "output_type": "stream",
     "text": [
      "[19:11:46] WARNING: ../src/learner.cc:1061: Starting in XGBoost 1.3.0, the default evaluation metric used with the objective 'binary:logistic' was changed from 'error' to 'logloss'. Explicitly set eval_metric if you'd like to restore the old behavior.\n",
      "0.8889365062361746\n"
     ]
    }
   ],
   "source": [
    "model6 = xgb.XGBClassifier(n_jobs=-1, use_label_encoder=False)\n",
    "print(auc_train_test(model6, x_train, x_test, y_train, y_test))\n",
    "# concatenating two cat vectors and selecting few didnt help much. (lost in fact).\n",
    "# used all resulted in 0.0004 improvement"
   ]
  },
  {
   "cell_type": "code",
   "execution_count": 35,
   "id": "ordered-habitat",
   "metadata": {},
   "outputs": [
    {
     "name": "stdout",
     "output_type": "stream",
     "text": [
      "[19:37:31] WARNING: ../src/learner.cc:1061: Starting in XGBoost 1.3.0, the default evaluation metric used with the objective 'binary:logistic' was changed from 'error' to 'logloss'. Explicitly set eval_metric if you'd like to restore the old behavior.\n",
      "[19:37:49] WARNING: ../src/learner.cc:1061: Starting in XGBoost 1.3.0, the default evaluation metric used with the objective 'binary:logistic' was changed from 'error' to 'logloss'. Explicitly set eval_metric if you'd like to restore the old behavior.\n",
      "[19:38:07] WARNING: ../src/learner.cc:1061: Starting in XGBoost 1.3.0, the default evaluation metric used with the objective 'binary:logistic' was changed from 'error' to 'logloss'. Explicitly set eval_metric if you'd like to restore the old behavior.\n",
      "[19:38:25] WARNING: ../src/learner.cc:1061: Starting in XGBoost 1.3.0, the default evaluation metric used with the objective 'binary:logistic' was changed from 'error' to 'logloss'. Explicitly set eval_metric if you'd like to restore the old behavior.\n",
      "[19:38:44] WARNING: ../src/learner.cc:1061: Starting in XGBoost 1.3.0, the default evaluation metric used with the objective 'binary:logistic' was changed from 'error' to 'logloss'. Explicitly set eval_metric if you'd like to restore the old behavior.\n",
      "[19:39:02] WARNING: ../src/learner.cc:1061: Starting in XGBoost 1.3.0, the default evaluation metric used with the objective 'binary:logistic' was changed from 'error' to 'logloss'. Explicitly set eval_metric if you'd like to restore the old behavior.\n",
      "[19:39:21] WARNING: ../src/learner.cc:1061: Starting in XGBoost 1.3.0, the default evaluation metric used with the objective 'binary:logistic' was changed from 'error' to 'logloss'. Explicitly set eval_metric if you'd like to restore the old behavior.\n",
      "[19:39:39] WARNING: ../src/learner.cc:1061: Starting in XGBoost 1.3.0, the default evaluation metric used with the objective 'binary:logistic' was changed from 'error' to 'logloss'. Explicitly set eval_metric if you'd like to restore the old behavior.\n",
      "[19:39:57] WARNING: ../src/learner.cc:1061: Starting in XGBoost 1.3.0, the default evaluation metric used with the objective 'binary:logistic' was changed from 'error' to 'logloss'. Explicitly set eval_metric if you'd like to restore the old behavior.\n",
      "[19:40:15] WARNING: ../src/learner.cc:1061: Starting in XGBoost 1.3.0, the default evaluation metric used with the objective 'binary:logistic' was changed from 'error' to 'logloss'. Explicitly set eval_metric if you'd like to restore the old behavior.\n",
      "[19:40:34] WARNING: ../src/learner.cc:1061: Starting in XGBoost 1.3.0, the default evaluation metric used with the objective 'binary:logistic' was changed from 'error' to 'logloss'. Explicitly set eval_metric if you'd like to restore the old behavior.\n",
      "[19:40:52] WARNING: ../src/learner.cc:1061: Starting in XGBoost 1.3.0, the default evaluation metric used with the objective 'binary:logistic' was changed from 'error' to 'logloss'. Explicitly set eval_metric if you'd like to restore the old behavior.\n",
      "[19:41:10] WARNING: ../src/learner.cc:1061: Starting in XGBoost 1.3.0, the default evaluation metric used with the objective 'binary:logistic' was changed from 'error' to 'logloss'. Explicitly set eval_metric if you'd like to restore the old behavior.\n",
      "[19:41:28] WARNING: ../src/learner.cc:1061: Starting in XGBoost 1.3.0, the default evaluation metric used with the objective 'binary:logistic' was changed from 'error' to 'logloss'. Explicitly set eval_metric if you'd like to restore the old behavior.\n",
      "[19:41:45] WARNING: ../src/learner.cc:1061: Starting in XGBoost 1.3.0, the default evaluation metric used with the objective 'binary:logistic' was changed from 'error' to 'logloss'. Explicitly set eval_metric if you'd like to restore the old behavior.\n",
      "[19:42:03] WARNING: ../src/learner.cc:1061: Starting in XGBoost 1.3.0, the default evaluation metric used with the objective 'binary:logistic' was changed from 'error' to 'logloss'. Explicitly set eval_metric if you'd like to restore the old behavior.\n",
      "[19:42:21] WARNING: ../src/learner.cc:1061: Starting in XGBoost 1.3.0, the default evaluation metric used with the objective 'binary:logistic' was changed from 'error' to 'logloss'. Explicitly set eval_metric if you'd like to restore the old behavior.\n",
      "[19:42:38] WARNING: ../src/learner.cc:1061: Starting in XGBoost 1.3.0, the default evaluation metric used with the objective 'binary:logistic' was changed from 'error' to 'logloss'. Explicitly set eval_metric if you'd like to restore the old behavior.\n",
      "[19:42:56] WARNING: ../src/learner.cc:1061: Starting in XGBoost 1.3.0, the default evaluation metric used with the objective 'binary:logistic' was changed from 'error' to 'logloss'. Explicitly set eval_metric if you'd like to restore the old behavior.\n",
      "[19:43:13] WARNING: ../src/learner.cc:1061: Starting in XGBoost 1.3.0, the default evaluation metric used with the objective 'binary:logistic' was changed from 'error' to 'logloss'. Explicitly set eval_metric if you'd like to restore the old behavior.\n",
      "[19:43:31] WARNING: ../src/learner.cc:1061: Starting in XGBoost 1.3.0, the default evaluation metric used with the objective 'binary:logistic' was changed from 'error' to 'logloss'. Explicitly set eval_metric if you'd like to restore the old behavior.\n",
      "[19:43:48] WARNING: ../src/learner.cc:1061: Starting in XGBoost 1.3.0, the default evaluation metric used with the objective 'binary:logistic' was changed from 'error' to 'logloss'. Explicitly set eval_metric if you'd like to restore the old behavior.\n",
      "[19:44:05] WARNING: ../src/learner.cc:1061: Starting in XGBoost 1.3.0, the default evaluation metric used with the objective 'binary:logistic' was changed from 'error' to 'logloss'. Explicitly set eval_metric if you'd like to restore the old behavior.\n",
      "[19:44:22] WARNING: ../src/learner.cc:1061: Starting in XGBoost 1.3.0, the default evaluation metric used with the objective 'binary:logistic' was changed from 'error' to 'logloss'. Explicitly set eval_metric if you'd like to restore the old behavior.\n",
      "[19:44:39] WARNING: ../src/learner.cc:1061: Starting in XGBoost 1.3.0, the default evaluation metric used with the objective 'binary:logistic' was changed from 'error' to 'logloss'. Explicitly set eval_metric if you'd like to restore the old behavior.\n",
      "[19:44:56] WARNING: ../src/learner.cc:1061: Starting in XGBoost 1.3.0, the default evaluation metric used with the objective 'binary:logistic' was changed from 'error' to 'logloss'. Explicitly set eval_metric if you'd like to restore the old behavior.\n",
      "[19:45:12] WARNING: ../src/learner.cc:1061: Starting in XGBoost 1.3.0, the default evaluation metric used with the objective 'binary:logistic' was changed from 'error' to 'logloss'. Explicitly set eval_metric if you'd like to restore the old behavior.\n",
      "[19:45:29] WARNING: ../src/learner.cc:1061: Starting in XGBoost 1.3.0, the default evaluation metric used with the objective 'binary:logistic' was changed from 'error' to 'logloss'. Explicitly set eval_metric if you'd like to restore the old behavior.\n",
      "[19:45:46] WARNING: ../src/learner.cc:1061: Starting in XGBoost 1.3.0, the default evaluation metric used with the objective 'binary:logistic' was changed from 'error' to 'logloss'. Explicitly set eval_metric if you'd like to restore the old behavior.\n",
      "[19:46:02] WARNING: ../src/learner.cc:1061: Starting in XGBoost 1.3.0, the default evaluation metric used with the objective 'binary:logistic' was changed from 'error' to 'logloss'. Explicitly set eval_metric if you'd like to restore the old behavior.\n",
      "[19:46:19] WARNING: ../src/learner.cc:1061: Starting in XGBoost 1.3.0, the default evaluation metric used with the objective 'binary:logistic' was changed from 'error' to 'logloss'. Explicitly set eval_metric if you'd like to restore the old behavior.\n",
      "[19:46:35] WARNING: ../src/learner.cc:1061: Starting in XGBoost 1.3.0, the default evaluation metric used with the objective 'binary:logistic' was changed from 'error' to 'logloss'. Explicitly set eval_metric if you'd like to restore the old behavior.\n",
      "[19:46:51] WARNING: ../src/learner.cc:1061: Starting in XGBoost 1.3.0, the default evaluation metric used with the objective 'binary:logistic' was changed from 'error' to 'logloss'. Explicitly set eval_metric if you'd like to restore the old behavior.\n"
     ]
    },
    {
     "name": "stdout",
     "output_type": "stream",
     "text": [
      "[19:47:08] WARNING: ../src/learner.cc:1061: Starting in XGBoost 1.3.0, the default evaluation metric used with the objective 'binary:logistic' was changed from 'error' to 'logloss'. Explicitly set eval_metric if you'd like to restore the old behavior.\n",
      "[19:47:24] WARNING: ../src/learner.cc:1061: Starting in XGBoost 1.3.0, the default evaluation metric used with the objective 'binary:logistic' was changed from 'error' to 'logloss'. Explicitly set eval_metric if you'd like to restore the old behavior.\n",
      "[19:47:40] WARNING: ../src/learner.cc:1061: Starting in XGBoost 1.3.0, the default evaluation metric used with the objective 'binary:logistic' was changed from 'error' to 'logloss'. Explicitly set eval_metric if you'd like to restore the old behavior.\n",
      "[19:47:56] WARNING: ../src/learner.cc:1061: Starting in XGBoost 1.3.0, the default evaluation metric used with the objective 'binary:logistic' was changed from 'error' to 'logloss'. Explicitly set eval_metric if you'd like to restore the old behavior.\n",
      "[19:48:12] WARNING: ../src/learner.cc:1061: Starting in XGBoost 1.3.0, the default evaluation metric used with the objective 'binary:logistic' was changed from 'error' to 'logloss'. Explicitly set eval_metric if you'd like to restore the old behavior.\n",
      "[19:48:27] WARNING: ../src/learner.cc:1061: Starting in XGBoost 1.3.0, the default evaluation metric used with the objective 'binary:logistic' was changed from 'error' to 'logloss'. Explicitly set eval_metric if you'd like to restore the old behavior.\n",
      "[19:48:43] WARNING: ../src/learner.cc:1061: Starting in XGBoost 1.3.0, the default evaluation metric used with the objective 'binary:logistic' was changed from 'error' to 'logloss'. Explicitly set eval_metric if you'd like to restore the old behavior.\n",
      "[19:48:58] WARNING: ../src/learner.cc:1061: Starting in XGBoost 1.3.0, the default evaluation metric used with the objective 'binary:logistic' was changed from 'error' to 'logloss'. Explicitly set eval_metric if you'd like to restore the old behavior.\n",
      "[19:49:14] WARNING: ../src/learner.cc:1061: Starting in XGBoost 1.3.0, the default evaluation metric used with the objective 'binary:logistic' was changed from 'error' to 'logloss'. Explicitly set eval_metric if you'd like to restore the old behavior.\n",
      "[19:49:29] WARNING: ../src/learner.cc:1061: Starting in XGBoost 1.3.0, the default evaluation metric used with the objective 'binary:logistic' was changed from 'error' to 'logloss'. Explicitly set eval_metric if you'd like to restore the old behavior.\n",
      "[19:49:45] WARNING: ../src/learner.cc:1061: Starting in XGBoost 1.3.0, the default evaluation metric used with the objective 'binary:logistic' was changed from 'error' to 'logloss'. Explicitly set eval_metric if you'd like to restore the old behavior.\n",
      "[19:50:00] WARNING: ../src/learner.cc:1061: Starting in XGBoost 1.3.0, the default evaluation metric used with the objective 'binary:logistic' was changed from 'error' to 'logloss'. Explicitly set eval_metric if you'd like to restore the old behavior.\n",
      "[19:50:15] WARNING: ../src/learner.cc:1061: Starting in XGBoost 1.3.0, the default evaluation metric used with the objective 'binary:logistic' was changed from 'error' to 'logloss'. Explicitly set eval_metric if you'd like to restore the old behavior.\n",
      "[19:50:31] WARNING: ../src/learner.cc:1061: Starting in XGBoost 1.3.0, the default evaluation metric used with the objective 'binary:logistic' was changed from 'error' to 'logloss'. Explicitly set eval_metric if you'd like to restore the old behavior.\n",
      "[19:50:46] WARNING: ../src/learner.cc:1061: Starting in XGBoost 1.3.0, the default evaluation metric used with the objective 'binary:logistic' was changed from 'error' to 'logloss'. Explicitly set eval_metric if you'd like to restore the old behavior.\n",
      "[19:51:01] WARNING: ../src/learner.cc:1061: Starting in XGBoost 1.3.0, the default evaluation metric used with the objective 'binary:logistic' was changed from 'error' to 'logloss'. Explicitly set eval_metric if you'd like to restore the old behavior.\n",
      "[19:51:16] WARNING: ../src/learner.cc:1061: Starting in XGBoost 1.3.0, the default evaluation metric used with the objective 'binary:logistic' was changed from 'error' to 'logloss'. Explicitly set eval_metric if you'd like to restore the old behavior.\n",
      "[19:51:31] WARNING: ../src/learner.cc:1061: Starting in XGBoost 1.3.0, the default evaluation metric used with the objective 'binary:logistic' was changed from 'error' to 'logloss'. Explicitly set eval_metric if you'd like to restore the old behavior.\n",
      "[19:51:45] WARNING: ../src/learner.cc:1061: Starting in XGBoost 1.3.0, the default evaluation metric used with the objective 'binary:logistic' was changed from 'error' to 'logloss'. Explicitly set eval_metric if you'd like to restore the old behavior.\n",
      "[19:52:00] WARNING: ../src/learner.cc:1061: Starting in XGBoost 1.3.0, the default evaluation metric used with the objective 'binary:logistic' was changed from 'error' to 'logloss'. Explicitly set eval_metric if you'd like to restore the old behavior.\n",
      "[19:52:14] WARNING: ../src/learner.cc:1061: Starting in XGBoost 1.3.0, the default evaluation metric used with the objective 'binary:logistic' was changed from 'error' to 'logloss'. Explicitly set eval_metric if you'd like to restore the old behavior.\n",
      "[19:52:29] WARNING: ../src/learner.cc:1061: Starting in XGBoost 1.3.0, the default evaluation metric used with the objective 'binary:logistic' was changed from 'error' to 'logloss'. Explicitly set eval_metric if you'd like to restore the old behavior.\n",
      "[19:52:43] WARNING: ../src/learner.cc:1061: Starting in XGBoost 1.3.0, the default evaluation metric used with the objective 'binary:logistic' was changed from 'error' to 'logloss'. Explicitly set eval_metric if you'd like to restore the old behavior.\n",
      "[19:52:57] WARNING: ../src/learner.cc:1061: Starting in XGBoost 1.3.0, the default evaluation metric used with the objective 'binary:logistic' was changed from 'error' to 'logloss'. Explicitly set eval_metric if you'd like to restore the old behavior.\n",
      "[19:53:11] WARNING: ../src/learner.cc:1061: Starting in XGBoost 1.3.0, the default evaluation metric used with the objective 'binary:logistic' was changed from 'error' to 'logloss'. Explicitly set eval_metric if you'd like to restore the old behavior.\n",
      "[19:53:25] WARNING: ../src/learner.cc:1061: Starting in XGBoost 1.3.0, the default evaluation metric used with the objective 'binary:logistic' was changed from 'error' to 'logloss'. Explicitly set eval_metric if you'd like to restore the old behavior.\n",
      "[19:53:39] WARNING: ../src/learner.cc:1061: Starting in XGBoost 1.3.0, the default evaluation metric used with the objective 'binary:logistic' was changed from 'error' to 'logloss'. Explicitly set eval_metric if you'd like to restore the old behavior.\n",
      "[19:53:53] WARNING: ../src/learner.cc:1061: Starting in XGBoost 1.3.0, the default evaluation metric used with the objective 'binary:logistic' was changed from 'error' to 'logloss'. Explicitly set eval_metric if you'd like to restore the old behavior.\n",
      "[19:54:07] WARNING: ../src/learner.cc:1061: Starting in XGBoost 1.3.0, the default evaluation metric used with the objective 'binary:logistic' was changed from 'error' to 'logloss'. Explicitly set eval_metric if you'd like to restore the old behavior.\n",
      "[19:54:20] WARNING: ../src/learner.cc:1061: Starting in XGBoost 1.3.0, the default evaluation metric used with the objective 'binary:logistic' was changed from 'error' to 'logloss'. Explicitly set eval_metric if you'd like to restore the old behavior.\n",
      "[19:54:34] WARNING: ../src/learner.cc:1061: Starting in XGBoost 1.3.0, the default evaluation metric used with the objective 'binary:logistic' was changed from 'error' to 'logloss'. Explicitly set eval_metric if you'd like to restore the old behavior.\n",
      "[19:54:47] WARNING: ../src/learner.cc:1061: Starting in XGBoost 1.3.0, the default evaluation metric used with the objective 'binary:logistic' was changed from 'error' to 'logloss'. Explicitly set eval_metric if you'd like to restore the old behavior.\n",
      "[19:55:01] WARNING: ../src/learner.cc:1061: Starting in XGBoost 1.3.0, the default evaluation metric used with the objective 'binary:logistic' was changed from 'error' to 'logloss'. Explicitly set eval_metric if you'd like to restore the old behavior.\n"
     ]
    },
    {
     "name": "stdout",
     "output_type": "stream",
     "text": [
      "[19:55:14] WARNING: ../src/learner.cc:1061: Starting in XGBoost 1.3.0, the default evaluation metric used with the objective 'binary:logistic' was changed from 'error' to 'logloss'. Explicitly set eval_metric if you'd like to restore the old behavior.\n",
      "[19:55:28] WARNING: ../src/learner.cc:1061: Starting in XGBoost 1.3.0, the default evaluation metric used with the objective 'binary:logistic' was changed from 'error' to 'logloss'. Explicitly set eval_metric if you'd like to restore the old behavior.\n",
      "[19:55:41] WARNING: ../src/learner.cc:1061: Starting in XGBoost 1.3.0, the default evaluation metric used with the objective 'binary:logistic' was changed from 'error' to 'logloss'. Explicitly set eval_metric if you'd like to restore the old behavior.\n",
      "[19:55:54] WARNING: ../src/learner.cc:1061: Starting in XGBoost 1.3.0, the default evaluation metric used with the objective 'binary:logistic' was changed from 'error' to 'logloss'. Explicitly set eval_metric if you'd like to restore the old behavior.\n",
      "[19:56:07] WARNING: ../src/learner.cc:1061: Starting in XGBoost 1.3.0, the default evaluation metric used with the objective 'binary:logistic' was changed from 'error' to 'logloss'. Explicitly set eval_metric if you'd like to restore the old behavior.\n",
      "[19:56:20] WARNING: ../src/learner.cc:1061: Starting in XGBoost 1.3.0, the default evaluation metric used with the objective 'binary:logistic' was changed from 'error' to 'logloss'. Explicitly set eval_metric if you'd like to restore the old behavior.\n",
      "[19:56:33] WARNING: ../src/learner.cc:1061: Starting in XGBoost 1.3.0, the default evaluation metric used with the objective 'binary:logistic' was changed from 'error' to 'logloss'. Explicitly set eval_metric if you'd like to restore the old behavior.\n",
      "[19:56:46] WARNING: ../src/learner.cc:1061: Starting in XGBoost 1.3.0, the default evaluation metric used with the objective 'binary:logistic' was changed from 'error' to 'logloss'. Explicitly set eval_metric if you'd like to restore the old behavior.\n",
      "[19:56:58] WARNING: ../src/learner.cc:1061: Starting in XGBoost 1.3.0, the default evaluation metric used with the objective 'binary:logistic' was changed from 'error' to 'logloss'. Explicitly set eval_metric if you'd like to restore the old behavior.\n",
      "[19:57:11] WARNING: ../src/learner.cc:1061: Starting in XGBoost 1.3.0, the default evaluation metric used with the objective 'binary:logistic' was changed from 'error' to 'logloss'. Explicitly set eval_metric if you'd like to restore the old behavior.\n",
      "[19:57:23] WARNING: ../src/learner.cc:1061: Starting in XGBoost 1.3.0, the default evaluation metric used with the objective 'binary:logistic' was changed from 'error' to 'logloss'. Explicitly set eval_metric if you'd like to restore the old behavior.\n",
      "[19:57:36] WARNING: ../src/learner.cc:1061: Starting in XGBoost 1.3.0, the default evaluation metric used with the objective 'binary:logistic' was changed from 'error' to 'logloss'. Explicitly set eval_metric if you'd like to restore the old behavior.\n",
      "[19:57:48] WARNING: ../src/learner.cc:1061: Starting in XGBoost 1.3.0, the default evaluation metric used with the objective 'binary:logistic' was changed from 'error' to 'logloss'. Explicitly set eval_metric if you'd like to restore the old behavior.\n",
      "[19:58:00] WARNING: ../src/learner.cc:1061: Starting in XGBoost 1.3.0, the default evaluation metric used with the objective 'binary:logistic' was changed from 'error' to 'logloss'. Explicitly set eval_metric if you'd like to restore the old behavior.\n",
      "[19:58:12] WARNING: ../src/learner.cc:1061: Starting in XGBoost 1.3.0, the default evaluation metric used with the objective 'binary:logistic' was changed from 'error' to 'logloss'. Explicitly set eval_metric if you'd like to restore the old behavior.\n",
      "[19:58:24] WARNING: ../src/learner.cc:1061: Starting in XGBoost 1.3.0, the default evaluation metric used with the objective 'binary:logistic' was changed from 'error' to 'logloss'. Explicitly set eval_metric if you'd like to restore the old behavior.\n",
      "[19:58:36] WARNING: ../src/learner.cc:1061: Starting in XGBoost 1.3.0, the default evaluation metric used with the objective 'binary:logistic' was changed from 'error' to 'logloss'. Explicitly set eval_metric if you'd like to restore the old behavior.\n",
      "[19:58:48] WARNING: ../src/learner.cc:1061: Starting in XGBoost 1.3.0, the default evaluation metric used with the objective 'binary:logistic' was changed from 'error' to 'logloss'. Explicitly set eval_metric if you'd like to restore the old behavior.\n",
      "[19:58:59] WARNING: ../src/learner.cc:1061: Starting in XGBoost 1.3.0, the default evaluation metric used with the objective 'binary:logistic' was changed from 'error' to 'logloss'. Explicitly set eval_metric if you'd like to restore the old behavior.\n",
      "[19:59:11] WARNING: ../src/learner.cc:1061: Starting in XGBoost 1.3.0, the default evaluation metric used with the objective 'binary:logistic' was changed from 'error' to 'logloss'. Explicitly set eval_metric if you'd like to restore the old behavior.\n",
      "[19:59:22] WARNING: ../src/learner.cc:1061: Starting in XGBoost 1.3.0, the default evaluation metric used with the objective 'binary:logistic' was changed from 'error' to 'logloss'. Explicitly set eval_metric if you'd like to restore the old behavior.\n",
      "[19:59:34] WARNING: ../src/learner.cc:1061: Starting in XGBoost 1.3.0, the default evaluation metric used with the objective 'binary:logistic' was changed from 'error' to 'logloss'. Explicitly set eval_metric if you'd like to restore the old behavior.\n",
      "[19:59:45] WARNING: ../src/learner.cc:1061: Starting in XGBoost 1.3.0, the default evaluation metric used with the objective 'binary:logistic' was changed from 'error' to 'logloss'. Explicitly set eval_metric if you'd like to restore the old behavior.\n",
      "[19:59:56] WARNING: ../src/learner.cc:1061: Starting in XGBoost 1.3.0, the default evaluation metric used with the objective 'binary:logistic' was changed from 'error' to 'logloss'. Explicitly set eval_metric if you'd like to restore the old behavior.\n",
      "[20:00:07] WARNING: ../src/learner.cc:1061: Starting in XGBoost 1.3.0, the default evaluation metric used with the objective 'binary:logistic' was changed from 'error' to 'logloss'. Explicitly set eval_metric if you'd like to restore the old behavior.\n",
      "[20:00:18] WARNING: ../src/learner.cc:1061: Starting in XGBoost 1.3.0, the default evaluation metric used with the objective 'binary:logistic' was changed from 'error' to 'logloss'. Explicitly set eval_metric if you'd like to restore the old behavior.\n",
      "[20:00:29] WARNING: ../src/learner.cc:1061: Starting in XGBoost 1.3.0, the default evaluation metric used with the objective 'binary:logistic' was changed from 'error' to 'logloss'. Explicitly set eval_metric if you'd like to restore the old behavior.\n",
      "[20:00:40] WARNING: ../src/learner.cc:1061: Starting in XGBoost 1.3.0, the default evaluation metric used with the objective 'binary:logistic' was changed from 'error' to 'logloss'. Explicitly set eval_metric if you'd like to restore the old behavior.\n",
      "[20:00:52] WARNING: ../src/learner.cc:1061: Starting in XGBoost 1.3.0, the default evaluation metric used with the objective 'binary:logistic' was changed from 'error' to 'logloss'. Explicitly set eval_metric if you'd like to restore the old behavior.\n",
      "[20:01:02] WARNING: ../src/learner.cc:1061: Starting in XGBoost 1.3.0, the default evaluation metric used with the objective 'binary:logistic' was changed from 'error' to 'logloss'. Explicitly set eval_metric if you'd like to restore the old behavior.\n",
      "['cat0_cat5', 'cat0_cat16', 'cat0_cat17', 'cat1_cat4', 'cat1_cat14', 'cat4_cat11', 'cat4_cat12', 'cat4_cat13', 'cat4_cat14', 'cat11_cat13', 'cat11_cat15', 'cat13_cat15', 'cat13_cat16', 'cat14_cat15', 'cat14_cat18', 'cat15_cat18', 'cat16_cat17']\n",
      "[20:01:12] WARNING: ../src/learner.cc:1061: Starting in XGBoost 1.3.0, the default evaluation metric used with the objective 'binary:logistic' was changed from 'error' to 'logloss'. Explicitly set eval_metric if you'd like to restore the old behavior.\n",
      "0.8712277511362574\n"
     ]
    }
   ],
   "source": [
    "from sklearn.feature_selection import RFE\n",
    "model7 = xgb.XGBClassifier(n_jobs=-1, use_label_encoder=False)\n",
    "rfe = RFE(estimator=model7)\n",
    "# fit RFE\n",
    "rfe.fit(df_train.loc[:, cat_features + add_cat_features], df_train[\"target\"])\n",
    "# get the transformed data with\n",
    "# selected columns\n",
    "X_transformed = rfe.transform(df_train.loc[:, cat_features + add_cat_features])\n",
    "\n",
    "rfe_columns = [x for x, y in zip(cat_features + add_cat_features, support) if y == True]\n",
    "print(rfe_columns)\n",
    "\n",
    "model8 = xgb.XGBClassifier(n_jobs=-1, use_label_encoder=False)\n",
    "print(auc_train_test(model8, x_train.loc[:, rfe_columns], x_test.loc[:, rfe_columns], y_train, y_test))auc_train_test\n",
    "# same result as selectFromModel. Not naively concatenating categorical columns didnt help much"
   ]
  },
  {
   "cell_type": "code",
   "execution_count": 7,
   "id": "distinguished-interaction",
   "metadata": {},
   "outputs": [
    {
     "ename": "NameError",
     "evalue": "name 'xgb' is not defined",
     "output_type": "error",
     "traceback": [
      "\u001b[0;31m---------------------------------------------------------------------------\u001b[0m",
      "\u001b[0;31mNameError\u001b[0m                                 Traceback (most recent call last)",
      "\u001b[0;32m<ipython-input-7-230c3a937beb>\u001b[0m in \u001b[0;36m<module>\u001b[0;34m\u001b[0m\n\u001b[0;32m----> 1\u001b[0;31m \u001b[0mmodel9\u001b[0m \u001b[0;34m=\u001b[0m \u001b[0mxgb\u001b[0m\u001b[0;34m.\u001b[0m\u001b[0mXGBClassifier\u001b[0m\u001b[0;34m(\u001b[0m\u001b[0mn_jobs\u001b[0m\u001b[0;34m=\u001b[0m\u001b[0;34m-\u001b[0m\u001b[0;36m1\u001b[0m\u001b[0;34m,\u001b[0m \u001b[0muse_label_encoder\u001b[0m\u001b[0;34m=\u001b[0m\u001b[0;32mFalse\u001b[0m\u001b[0;34m)\u001b[0m\u001b[0;34m\u001b[0m\u001b[0;34m\u001b[0m\u001b[0m\n\u001b[0m\u001b[1;32m      2\u001b[0m \u001b[0mprint\u001b[0m\u001b[0;34m(\u001b[0m\u001b[0mauc_train_test\u001b[0m\u001b[0;34m(\u001b[0m\u001b[0mmodel9\u001b[0m\u001b[0;34m,\u001b[0m \u001b[0mx_train\u001b[0m\u001b[0;34m.\u001b[0m\u001b[0mloc\u001b[0m\u001b[0;34m[\u001b[0m\u001b[0;34m:\u001b[0m\u001b[0;34m,\u001b[0m \u001b[0mrfe_columns\u001b[0m \u001b[0;34m+\u001b[0m \u001b[0mcont_features\u001b[0m\u001b[0;34m]\u001b[0m\u001b[0;34m,\u001b[0m \u001b[0mx_test\u001b[0m\u001b[0;34m.\u001b[0m\u001b[0mloc\u001b[0m\u001b[0;34m[\u001b[0m\u001b[0;34m:\u001b[0m\u001b[0;34m,\u001b[0m \u001b[0mrfe_columns\u001b[0m \u001b[0;34m+\u001b[0m \u001b[0mcont_features\u001b[0m\u001b[0;34m]\u001b[0m\u001b[0;34m,\u001b[0m \u001b[0my_train\u001b[0m\u001b[0;34m,\u001b[0m \u001b[0my_test\u001b[0m\u001b[0;34m)\u001b[0m\u001b[0;34m)\u001b[0m\u001b[0;34m\u001b[0m\u001b[0;34m\u001b[0m\u001b[0m\n\u001b[1;32m      3\u001b[0m \u001b[0;31m# same result as selectFromModel. Not naively concatenating categorical columns didnt help much\u001b[0m\u001b[0;34m\u001b[0m\u001b[0;34m\u001b[0m\u001b[0;34m\u001b[0m\u001b[0m\n",
      "\u001b[0;31mNameError\u001b[0m: name 'xgb' is not defined"
     ]
    }
   ],
   "source": [
    "model9 = xgb.XGBClassifier(n_jobs=-1, use_label_encoder=False)\n",
    "print(auc_train_test(model9, x_train.loc[:, rfe_columns + cont_features], x_test.loc[:, rfe_columns + cont_features], y_train, y_test))\n",
    "# same result as selectFromModel. Not naively concatenating categorical columns didnt help much"
   ]
  },
  {
   "cell_type": "code",
   "execution_count": 31,
   "id": "caring-register",
   "metadata": {
    "scrolled": true
   },
   "outputs": [
    {
     "name": "stdout",
     "output_type": "stream",
     "text": [
      "[[0.91 0.09]\n",
      " [0.78 0.22]\n",
      " [0.81 0.19]\n",
      " ...\n",
      " [0.09 0.91]\n",
      " [0.32 0.68]\n",
      " [0.97 0.03]]\n"
     ]
    }
   ],
   "source": [
    "from sklearn.ensemble import RandomForestClassifier\n",
    "\n",
    "clf1 = RandomForestClassifier()\n",
    "clf1.fit(x_train, y_train)\n",
    "print(clf1.predict_proba(x_test))"
   ]
  },
  {
   "cell_type": "code",
   "execution_count": 37,
   "id": "suitable-onion",
   "metadata": {},
   "outputs": [
    {
     "name": "stdout",
     "output_type": "stream",
     "text": [
      "0.8828637718310395\n"
     ]
    }
   ],
   "source": [
    "from sklearn import metrics\n",
    "preds = clf1.predict_proba(x_test)[:, 1]\n",
    "print(metrics.roc_auc_score(y_test, preds))"
   ]
  },
  {
   "cell_type": "code",
   "execution_count": 44,
   "id": "stuffed-procedure",
   "metadata": {},
   "outputs": [
    {
     "name": "stdout",
     "output_type": "stream",
     "text": [
      "[21:37:50] WARNING: ../src/learner.cc:1061: Starting in XGBoost 1.3.0, the default evaluation metric used with the objective 'binary:logistic' was changed from 'error' to 'logloss'. Explicitly set eval_metric if you'd like to restore the old behavior.\n"
     ]
    },
    {
     "data": {
      "text/plain": [
       "XGBClassifier(base_score=0.5, booster='gbtree', colsample_bylevel=1,\n",
       "              colsample_bynode=1, colsample_bytree=1, gamma=0, gpu_id=-1,\n",
       "              importance_type='gain', interaction_constraints='',\n",
       "              learning_rate=0.300000012, max_delta_step=0, max_depth=6,\n",
       "              min_child_weight=1, missing=nan, monotone_constraints='()',\n",
       "              n_estimators=100, n_jobs=-1, num_parallel_tree=1, random_state=0,\n",
       "              reg_alpha=0, reg_lambda=1, scale_pos_weight=1, subsample=1,\n",
       "              tree_method='exact', use_label_encoder=False,\n",
       "              validate_parameters=1, verbosity=None)"
      ]
     },
     "execution_count": 44,
     "metadata": {},
     "output_type": "execute_result"
    }
   ],
   "source": [
    "import xgboost as xgb\n",
    "clf2 =  xgb.XGBClassifier(n_jobs=-1, use_label_encoder=False)\n",
    "clf2.fit(x_train, y_train)"
   ]
  },
  {
   "cell_type": "code",
   "execution_count": 45,
   "id": "civic-abraham",
   "metadata": {},
   "outputs": [
    {
     "name": "stdout",
     "output_type": "stream",
     "text": [
      "0.8885369665939751\n"
     ]
    }
   ],
   "source": [
    "preds2 = clf2.predict_proba(x_test)[:,1]\n",
    "print(metrics.roc_auc_score(y_test, preds2))"
   ]
  },
  {
   "cell_type": "code",
   "execution_count": 50,
   "id": "successful-velvet",
   "metadata": {},
   "outputs": [
    {
     "data": {
      "text/plain": [
       "XGBClassifier(base_score=0.5, booster='gbtree', colsample_bylevel=1,\n",
       "              colsample_bynode=1, colsample_bytree=1, gamma=0, gpu_id=-1,\n",
       "              importance_type='gain', interaction_constraints='',\n",
       "              learning_rate=0.300000012, max_delta_step=0, max_depth=6,\n",
       "              min_child_weight=1, missing=nan, monotone_constraints='()',\n",
       "              n_estimators=100, n_jobs=-1, num_parallel_tree=1,\n",
       "              objective='reg:squarederror', random_state=0, reg_alpha=0,\n",
       "              reg_lambda=1, scale_pos_weight=1, subsample=1,\n",
       "              tree_method='exact', use_label_encoder=False,\n",
       "              validate_parameters=1, verbosity=None)"
      ]
     },
     "execution_count": 50,
     "metadata": {},
     "output_type": "execute_result"
    }
   ],
   "source": [
    "clf3 =  xgb.XGBClassifier(n_jobs=-1, use_label_encoder=False, objective=\"reg:squarederror\")\n",
    "clf3.fit(x_train, y_train)"
   ]
  },
  {
   "cell_type": "code",
   "execution_count": 51,
   "id": "dense-blood",
   "metadata": {},
   "outputs": [
    {
     "name": "stdout",
     "output_type": "stream",
     "text": [
      "0.8850823251013444\n"
     ]
    }
   ],
   "source": [
    "preds3 = clf3.predict_proba(x_test)[:,1]\n",
    "print(metrics.roc_auc_score(y_test, preds3))"
   ]
  },
  {
   "cell_type": "code",
   "execution_count": null,
   "id": "embedded-invalid",
   "metadata": {},
   "outputs": [],
   "source": []
  },
  {
   "cell_type": "code",
   "execution_count": 30,
   "id": "measured-husband",
   "metadata": {},
   "outputs": [
    {
     "name": "stdout",
     "output_type": "stream",
     "text": [
      "(225000, 30) (75000, 30)\n"
     ]
    },
    {
     "name": "stderr",
     "output_type": "stream",
     "text": [
      "/root/miniconda3/envs/TPS-MAR/lib/python3.9/site-packages/category_encoders/utils.py:21: FutureWarning: is_categorical is deprecated and will be removed in a future version.  Use is_categorical_dtype instead\n",
      "  elif pd.api.types.is_categorical(cols):\n"
     ]
    },
    {
     "name": "stdout",
     "output_type": "stream",
     "text": [
      "(225000, 19) (75000, 19)\n"
     ]
    },
    {
     "name": "stderr",
     "output_type": "stream",
     "text": [
      "/root/miniconda3/envs/TPS-MAR/lib/python3.9/site-packages/category_encoders/utils.py:21: FutureWarning: is_categorical is deprecated and will be removed in a future version.  Use is_categorical_dtype instead\n",
      "  elif pd.api.types.is_categorical(cols):\n"
     ]
    },
    {
     "name": "stdout",
     "output_type": "stream",
     "text": [
      "(225000, 19) (75000, 19)\n",
      "(225000, 68) (75000, 68)\n",
      "(225000, 87) (75000, 87)\n",
      "[00:18:11] WARNING: ../src/learner.cc:1061: Starting in XGBoost 1.3.0, the default evaluation metric used with the objective 'binary:logistic' was changed from 'error' to 'logloss'. Explicitly set eval_metric if you'd like to restore the old behavior.\n",
      "0.8889184305662021\n",
      "[00:18:20] WARNING: ../src/learner.cc:1061: Starting in XGBoost 1.3.0, the default evaluation metric used with the objective 'binary:logistic' was changed from 'error' to 'logloss'. Explicitly set eval_metric if you'd like to restore the old behavior.\n",
      "0.889294261156248\n"
     ]
    }
   ],
   "source": [
    "#trying target encoding\n",
    "from category_encoders import TargetEncoder, WOEEncoder, CountEncoder\n",
    "\n",
    "def encode(enc, x_train, y_train, x_test):\n",
    "    x_train_transformed = enc.fit_transform(x_train, y_train)\n",
    "    x_test_transformed = enc.transform(x_test)\n",
    "    return x_train_transformed, x_test_transformed\n",
    "\n",
    "te = TargetEncoder(cols=cat_features)\n",
    "# x_train_transformed = te.fit_transform(x_train, y_train)\n",
    "# x_test_transformed = te.transform(x_test)\n",
    "xtrain1, xtest1 = encode(te, x_train, y_train, x_test) # has incl. num ff\n",
    "print(xtrain1.shape, xtest1.shape)\n",
    "\n",
    "we = WOEEncoder(cols=cat_features)\n",
    "xtrain2, xtest2 = encode(we, x_train.loc[:, cat_features], y_train, x_test.loc[:, cat_features]) # only cat ff\n",
    "print(xtrain2.shape, xtest2.shape)\n",
    "\n",
    "ce = CountEncoder(cols=cat_features)\n",
    "xtrain3, xtest3 = encode(ce, x_train.loc[:, cat_features], y_train, x_test.loc[:, cat_features]) # only cat ff\n",
    "print(xtrain3.shape, xtest3.shape)\n",
    "\n",
    "x_train_transformed = xtrain1.join(xtrain2, lsuffix=\"_enc1\", rsuffix=\"_enc2\").join(xtrain3)\n",
    "x_test_transformed = xtest1.join(xtest2, lsuffix=\"_enc1\", rsuffix=\"_enc2\").join(xtest3)\n",
    "print(x_train_transformed.shape, x_test_transformed.shape)\n",
    "\n",
    "import xgboost as xgb\n",
    "model1 = xgb.XGBClassifier(n_jobs=-1, use_label_encoder=False)\n",
    "model2 = xgb.XGBClassifier(n_jobs=-1, use_label_encoder=False)\n",
    "\n",
    "x_train_tmp = x_train.loc[:, cat_features].join(x_train_transformed, lsuffix=\"\", rsuffix=\"_enc3\")\n",
    "x_test_tmp = x_test.loc[:, cat_features].join(x_test_transformed, lsuffix=\"\", rsuffix=\"_enc3\")\n",
    "print(x_train_tmp.shape, x_test_tmp.shape)\n",
    "\n",
    "print(auc_train_test(model1, x_train_transformed, x_test_transformed, y_train, y_test))\n",
    "print(auc_train_test(model2, x_train_tmp, x_test_tmp, y_train, y_test))\n",
    "\n",
    "# looks like target encoding helped. improved by 0.001 with our train set\n",
    "# TE: 0.8891897094176843 0.889990999599158\n",
    "# WOE: 0.8888822194229294 0.8899221107306091\n",
    "# CE: 0.8887099538827322 0.888578754511699\n",
    "# all: 0.8889184305662021 0.889294261156248"
   ]
  },
  {
   "cell_type": "code",
   "execution_count": 39,
   "id": "personalized-marijuana",
   "metadata": {},
   "outputs": [
    {
     "name": "stdout",
     "output_type": "stream",
     "text": [
      "87\n",
      "['cat7', 'cat15', 'cat16', 'cat18', 'cat1_enc1', 'cat7_enc1', 'cat8_enc1', 'cat10_enc1', 'cat15_enc1', 'cat16_enc1', 'cat18_enc1', 'cont0', 'cont1', 'cont2', 'cont3', 'cont4', 'cont5', 'cont6', 'cont7', 'cont8', 'cont9', 'cont10', 'cat1_enc2', 'cat7_enc2', 'cat8_enc2', 'cat10_enc2', 'cat15_enc2', 'cat16_enc2', 'cat18_enc2', 'cat16_enc3'] 30\n"
     ]
    }
   ],
   "source": [
    "from sklearn.feature_selection import SelectFromModel\n",
    "from sklearn.feature_selection import RFE\n",
    "from sklearn.ensemble import RandomForestClassifier\n",
    "\n",
    "ff = [f for f in x_train_tmp.columns if f not in [\"id\", \"target\"]]\n",
    "print(len(ff))\n",
    "model1 = RandomForestClassifier(n_jobs=-1)\n",
    "\n",
    "sfm = SelectFromModel(estimator=model1)\n",
    "sfm.fit(x_train_tmp.loc[:, ff], y_train)\n",
    "support = sfm.get_support()\n",
    "# get feature names\n",
    "selected_features = [x for x, y in zip(x_train_tmp.columns, support) if y == True]\n",
    "print(selected_features, len(selected_features))\n",
    "# no help here"
   ]
  },
  {
   "cell_type": "code",
   "execution_count": 41,
   "id": "determined-nerve",
   "metadata": {},
   "outputs": [
    {
     "name": "stdout",
     "output_type": "stream",
     "text": [
      "[01:47:53] WARNING: ../src/learner.cc:1061: Starting in XGBoost 1.3.0, the default evaluation metric used with the objective 'binary:logistic' was changed from 'error' to 'logloss'. Explicitly set eval_metric if you'd like to restore the old behavior.\n",
      "0.8818386724884674\n"
     ]
    }
   ],
   "source": [
    "model2 = xgb.XGBClassifier(n_jobs=-1, use_label_encoder=False, objective='binary:logistic')\n",
    "print(auc_train_test(model2, x_train_tmp.loc[:, selected_features], x_test_tmp.loc[:, selected_features], y_train, y_test))\n",
    "# no help here"
   ]
  },
  {
   "cell_type": "code",
   "execution_count": 11,
   "id": "outer-third",
   "metadata": {},
   "outputs": [
    {
     "ename": "KeyboardInterrupt",
     "evalue": "",
     "output_type": "error",
     "traceback": [
      "\u001b[0;31m---------------------------------------------------------------------------\u001b[0m",
      "\u001b[0;31mKeyboardInterrupt\u001b[0m                         Traceback (most recent call last)",
      "\u001b[0;32m<ipython-input-11-003dd21d2d2b>\u001b[0m in \u001b[0;36m<module>\u001b[0;34m\u001b[0m\n\u001b[1;32m      2\u001b[0m \u001b[0;32mimport\u001b[0m \u001b[0mautosklearn\u001b[0m\u001b[0;34m.\u001b[0m\u001b[0mclassification\u001b[0m\u001b[0;34m\u001b[0m\u001b[0;34m\u001b[0m\u001b[0m\n\u001b[1;32m      3\u001b[0m \u001b[0mclf\u001b[0m\u001b[0;34m=\u001b[0m \u001b[0mautosklearn\u001b[0m\u001b[0;34m.\u001b[0m\u001b[0mclassification\u001b[0m\u001b[0;34m.\u001b[0m\u001b[0mAutoSklearnClassifier\u001b[0m\u001b[0;34m(\u001b[0m\u001b[0mn_jobs\u001b[0m\u001b[0;34m=\u001b[0m\u001b[0;36m2\u001b[0m\u001b[0;34m)\u001b[0m\u001b[0;34m\u001b[0m\u001b[0;34m\u001b[0m\u001b[0m\n\u001b[0;32m----> 4\u001b[0;31m \u001b[0mprint\u001b[0m\u001b[0;34m(\u001b[0m\u001b[0mauc_train_test\u001b[0m\u001b[0;34m(\u001b[0m\u001b[0mclf\u001b[0m\u001b[0;34m,\u001b[0m \u001b[0mx_train\u001b[0m\u001b[0;34m,\u001b[0m \u001b[0mx_test\u001b[0m\u001b[0;34m,\u001b[0m \u001b[0my_train\u001b[0m\u001b[0;34m,\u001b[0m \u001b[0my_test\u001b[0m\u001b[0;34m)\u001b[0m\u001b[0;34m)\u001b[0m\u001b[0;34m\u001b[0m\u001b[0;34m\u001b[0m\u001b[0m\n\u001b[0m",
      "\u001b[0;32m<ipython-input-10-c859162799b5>\u001b[0m in \u001b[0;36mauc_train_test\u001b[0;34m(model, x_train, x_test, y_train, y_test)\u001b[0m\n\u001b[1;32m      1\u001b[0m \u001b[0;32mfrom\u001b[0m \u001b[0msklearn\u001b[0m \u001b[0;32mimport\u001b[0m \u001b[0mmetrics\u001b[0m\u001b[0;34m\u001b[0m\u001b[0;34m\u001b[0m\u001b[0m\n\u001b[1;32m      2\u001b[0m \u001b[0;32mdef\u001b[0m \u001b[0mauc_train_test\u001b[0m\u001b[0;34m(\u001b[0m\u001b[0mmodel\u001b[0m\u001b[0;34m,\u001b[0m \u001b[0mx_train\u001b[0m\u001b[0;34m,\u001b[0m \u001b[0mx_test\u001b[0m\u001b[0;34m,\u001b[0m \u001b[0my_train\u001b[0m\u001b[0;34m,\u001b[0m \u001b[0my_test\u001b[0m\u001b[0;34m)\u001b[0m\u001b[0;34m:\u001b[0m\u001b[0;34m\u001b[0m\u001b[0;34m\u001b[0m\u001b[0m\n\u001b[0;32m----> 3\u001b[0;31m     \u001b[0mmodel\u001b[0m\u001b[0;34m.\u001b[0m\u001b[0mfit\u001b[0m\u001b[0;34m(\u001b[0m\u001b[0mx_train\u001b[0m\u001b[0;34m,\u001b[0m \u001b[0my_train\u001b[0m\u001b[0;34m)\u001b[0m\u001b[0;34m\u001b[0m\u001b[0;34m\u001b[0m\u001b[0m\n\u001b[0m\u001b[1;32m      4\u001b[0m     \u001b[0mpreds\u001b[0m \u001b[0;34m=\u001b[0m \u001b[0mmodel\u001b[0m\u001b[0;34m.\u001b[0m\u001b[0mpredict_proba\u001b[0m\u001b[0;34m(\u001b[0m\u001b[0mx_test\u001b[0m\u001b[0;34m)\u001b[0m\u001b[0;34m[\u001b[0m\u001b[0;34m:\u001b[0m\u001b[0;34m,\u001b[0m \u001b[0;36m1\u001b[0m\u001b[0;34m]\u001b[0m\u001b[0;34m\u001b[0m\u001b[0;34m\u001b[0m\u001b[0m\n\u001b[1;32m      5\u001b[0m     \u001b[0;32mreturn\u001b[0m \u001b[0mmetrics\u001b[0m\u001b[0;34m.\u001b[0m\u001b[0mroc_auc_score\u001b[0m\u001b[0;34m(\u001b[0m\u001b[0my_test\u001b[0m\u001b[0;34m,\u001b[0m \u001b[0mpreds\u001b[0m\u001b[0;34m)\u001b[0m\u001b[0;34m\u001b[0m\u001b[0;34m\u001b[0m\u001b[0m\n",
      "\u001b[0;32m~/miniconda3/envs/TPS-MAR/lib/python3.9/site-packages/autosklearn/estimators.py\u001b[0m in \u001b[0;36mfit\u001b[0;34m(self, X, y, X_test, y_test, feat_type, dataset_name)\u001b[0m\n\u001b[1;32m    590\u001b[0m         \u001b[0mself\u001b[0m\u001b[0;34m.\u001b[0m\u001b[0mtarget_type\u001b[0m \u001b[0;34m=\u001b[0m \u001b[0mtarget_type\u001b[0m\u001b[0;34m\u001b[0m\u001b[0;34m\u001b[0m\u001b[0m\n\u001b[1;32m    591\u001b[0m \u001b[0;34m\u001b[0m\u001b[0m\n\u001b[0;32m--> 592\u001b[0;31m         super().fit(\n\u001b[0m\u001b[1;32m    593\u001b[0m             \u001b[0mX\u001b[0m\u001b[0;34m=\u001b[0m\u001b[0mX\u001b[0m\u001b[0;34m,\u001b[0m\u001b[0;34m\u001b[0m\u001b[0;34m\u001b[0m\u001b[0m\n\u001b[1;32m    594\u001b[0m             \u001b[0my\u001b[0m\u001b[0;34m=\u001b[0m\u001b[0my\u001b[0m\u001b[0;34m,\u001b[0m\u001b[0;34m\u001b[0m\u001b[0;34m\u001b[0m\u001b[0m\n",
      "\u001b[0;32m~/miniconda3/envs/TPS-MAR/lib/python3.9/site-packages/autosklearn/estimators.py\u001b[0m in \u001b[0;36mfit\u001b[0;34m(self, **kwargs)\u001b[0m\n\u001b[1;32m    355\u001b[0m             \u001b[0moutput_folder\u001b[0m\u001b[0;34m=\u001b[0m\u001b[0mself\u001b[0m\u001b[0;34m.\u001b[0m\u001b[0moutput_folder\u001b[0m\u001b[0;34m,\u001b[0m\u001b[0;34m\u001b[0m\u001b[0;34m\u001b[0m\u001b[0m\n\u001b[1;32m    356\u001b[0m         )\n\u001b[0;32m--> 357\u001b[0;31m         \u001b[0mself\u001b[0m\u001b[0;34m.\u001b[0m\u001b[0mautoml_\u001b[0m\u001b[0;34m.\u001b[0m\u001b[0mfit\u001b[0m\u001b[0;34m(\u001b[0m\u001b[0mload_models\u001b[0m\u001b[0;34m=\u001b[0m\u001b[0mself\u001b[0m\u001b[0;34m.\u001b[0m\u001b[0mload_models\u001b[0m\u001b[0;34m,\u001b[0m \u001b[0;34m**\u001b[0m\u001b[0mkwargs\u001b[0m\u001b[0;34m)\u001b[0m\u001b[0;34m\u001b[0m\u001b[0;34m\u001b[0m\u001b[0m\n\u001b[0m\u001b[1;32m    358\u001b[0m \u001b[0;34m\u001b[0m\u001b[0m\n\u001b[1;32m    359\u001b[0m         \u001b[0;32mreturn\u001b[0m \u001b[0mself\u001b[0m\u001b[0;34m\u001b[0m\u001b[0;34m\u001b[0m\u001b[0m\n",
      "\u001b[0;32m~/miniconda3/envs/TPS-MAR/lib/python3.9/site-packages/autosklearn/automl.py\u001b[0m in \u001b[0;36mfit\u001b[0;34m(self, X, y, X_test, y_test, feat_type, dataset_name, only_return_configuration_space, load_models)\u001b[0m\n\u001b[1;32m   1411\u001b[0m                 \u001b[0mself\u001b[0m\u001b[0;34m.\u001b[0m\u001b[0m_metric\u001b[0m \u001b[0;34m=\u001b[0m \u001b[0maccuracy\u001b[0m\u001b[0;34m\u001b[0m\u001b[0;34m\u001b[0m\u001b[0m\n\u001b[1;32m   1412\u001b[0m \u001b[0;34m\u001b[0m\u001b[0m\n\u001b[0;32m-> 1413\u001b[0;31m         return super().fit(\n\u001b[0m\u001b[1;32m   1414\u001b[0m             \u001b[0mX\u001b[0m\u001b[0;34m,\u001b[0m \u001b[0my\u001b[0m\u001b[0;34m,\u001b[0m\u001b[0;34m\u001b[0m\u001b[0;34m\u001b[0m\u001b[0m\n\u001b[1;32m   1415\u001b[0m             \u001b[0mX_test\u001b[0m\u001b[0;34m=\u001b[0m\u001b[0mX_test\u001b[0m\u001b[0;34m,\u001b[0m\u001b[0;34m\u001b[0m\u001b[0;34m\u001b[0m\u001b[0m\n",
      "\u001b[0;32m~/miniconda3/envs/TPS-MAR/lib/python3.9/site-packages/autosklearn/automl.py\u001b[0m in \u001b[0;36mfit\u001b[0;34m(self, X, y, task, X_test, y_test, feat_type, dataset_name, only_return_configuration_space, load_models, is_classification)\u001b[0m\n\u001b[1;32m    764\u001b[0m             \u001b[0;32mtry\u001b[0m\u001b[0;34m:\u001b[0m\u001b[0;34m\u001b[0m\u001b[0;34m\u001b[0m\u001b[0m\n\u001b[1;32m    765\u001b[0m                 \u001b[0mself\u001b[0m\u001b[0;34m.\u001b[0m\u001b[0mrunhistory_\u001b[0m\u001b[0;34m,\u001b[0m \u001b[0mself\u001b[0m\u001b[0;34m.\u001b[0m\u001b[0mtrajectory_\u001b[0m\u001b[0;34m,\u001b[0m \u001b[0mself\u001b[0m\u001b[0;34m.\u001b[0m\u001b[0m_budget_type\u001b[0m \u001b[0;34m=\u001b[0m\u001b[0;31m \u001b[0m\u001b[0;31m\\\u001b[0m\u001b[0;34m\u001b[0m\u001b[0;34m\u001b[0m\u001b[0m\n\u001b[0;32m--> 766\u001b[0;31m                     \u001b[0m_proc_smac\u001b[0m\u001b[0;34m.\u001b[0m\u001b[0mrun_smbo\u001b[0m\u001b[0;34m(\u001b[0m\u001b[0;34m)\u001b[0m\u001b[0;34m\u001b[0m\u001b[0;34m\u001b[0m\u001b[0m\n\u001b[0m\u001b[1;32m    767\u001b[0m                 trajectory_filename = os.path.join(\n\u001b[1;32m    768\u001b[0m                     \u001b[0mself\u001b[0m\u001b[0;34m.\u001b[0m\u001b[0m_backend\u001b[0m\u001b[0;34m.\u001b[0m\u001b[0mget_smac_output_directory_for_run\u001b[0m\u001b[0;34m(\u001b[0m\u001b[0mself\u001b[0m\u001b[0;34m.\u001b[0m\u001b[0m_seed\u001b[0m\u001b[0;34m)\u001b[0m\u001b[0;34m,\u001b[0m\u001b[0;34m\u001b[0m\u001b[0;34m\u001b[0m\u001b[0m\n",
      "\u001b[0;32m~/miniconda3/envs/TPS-MAR/lib/python3.9/site-packages/autosklearn/smbo.py\u001b[0m in \u001b[0;36mrun_smbo\u001b[0;34m(self)\u001b[0m\n\u001b[1;32m    522\u001b[0m             \u001b[0msmac\u001b[0m\u001b[0;34m.\u001b[0m\u001b[0mregister_callback\u001b[0m\u001b[0;34m(\u001b[0m\u001b[0mself\u001b[0m\u001b[0;34m.\u001b[0m\u001b[0mensemble_callback\u001b[0m\u001b[0;34m)\u001b[0m\u001b[0;34m\u001b[0m\u001b[0;34m\u001b[0m\u001b[0m\n\u001b[1;32m    523\u001b[0m \u001b[0;34m\u001b[0m\u001b[0m\n\u001b[0;32m--> 524\u001b[0;31m         \u001b[0msmac\u001b[0m\u001b[0;34m.\u001b[0m\u001b[0moptimize\u001b[0m\u001b[0;34m(\u001b[0m\u001b[0;34m)\u001b[0m\u001b[0;34m\u001b[0m\u001b[0;34m\u001b[0m\u001b[0m\n\u001b[0m\u001b[1;32m    525\u001b[0m \u001b[0;34m\u001b[0m\u001b[0m\n\u001b[1;32m    526\u001b[0m         \u001b[0mself\u001b[0m\u001b[0;34m.\u001b[0m\u001b[0mrunhistory\u001b[0m \u001b[0;34m=\u001b[0m \u001b[0msmac\u001b[0m\u001b[0;34m.\u001b[0m\u001b[0msolver\u001b[0m\u001b[0;34m.\u001b[0m\u001b[0mrunhistory\u001b[0m\u001b[0;34m\u001b[0m\u001b[0;34m\u001b[0m\u001b[0m\n",
      "\u001b[0;32m~/miniconda3/envs/TPS-MAR/lib/python3.9/site-packages/smac/facade/smac_ac_facade.py\u001b[0m in \u001b[0;36moptimize\u001b[0;34m(self)\u001b[0m\n\u001b[1;32m    595\u001b[0m         \u001b[0mincumbent\u001b[0m \u001b[0;34m=\u001b[0m \u001b[0;32mNone\u001b[0m\u001b[0;34m\u001b[0m\u001b[0;34m\u001b[0m\u001b[0m\n\u001b[1;32m    596\u001b[0m         \u001b[0;32mtry\u001b[0m\u001b[0;34m:\u001b[0m\u001b[0;34m\u001b[0m\u001b[0;34m\u001b[0m\u001b[0m\n\u001b[0;32m--> 597\u001b[0;31m             \u001b[0mincumbent\u001b[0m \u001b[0;34m=\u001b[0m \u001b[0mself\u001b[0m\u001b[0;34m.\u001b[0m\u001b[0msolver\u001b[0m\u001b[0;34m.\u001b[0m\u001b[0mrun\u001b[0m\u001b[0;34m(\u001b[0m\u001b[0;34m)\u001b[0m\u001b[0;34m\u001b[0m\u001b[0;34m\u001b[0m\u001b[0m\n\u001b[0m\u001b[1;32m    598\u001b[0m         \u001b[0;32mfinally\u001b[0m\u001b[0;34m:\u001b[0m\u001b[0;34m\u001b[0m\u001b[0;34m\u001b[0m\u001b[0m\n\u001b[1;32m    599\u001b[0m             \u001b[0mself\u001b[0m\u001b[0;34m.\u001b[0m\u001b[0msolver\u001b[0m\u001b[0;34m.\u001b[0m\u001b[0mstats\u001b[0m\u001b[0;34m.\u001b[0m\u001b[0msave\u001b[0m\u001b[0;34m(\u001b[0m\u001b[0;34m)\u001b[0m\u001b[0;34m\u001b[0m\u001b[0;34m\u001b[0m\u001b[0m\n",
      "\u001b[0;32m~/miniconda3/envs/TPS-MAR/lib/python3.9/site-packages/smac/optimizer/smbo.py\u001b[0m in \u001b[0;36mrun\u001b[0;34m(self)\u001b[0m\n\u001b[1;32m    257\u001b[0m                 \u001b[0mrun_info\u001b[0m\u001b[0;34m.\u001b[0m\u001b[0mconfig\u001b[0m\u001b[0;34m.\u001b[0m\u001b[0mconfig_id\u001b[0m \u001b[0;34m=\u001b[0m \u001b[0mself\u001b[0m\u001b[0;34m.\u001b[0m\u001b[0mrunhistory\u001b[0m\u001b[0;34m.\u001b[0m\u001b[0mconfig_ids\u001b[0m\u001b[0;34m[\u001b[0m\u001b[0mrun_info\u001b[0m\u001b[0;34m.\u001b[0m\u001b[0mconfig\u001b[0m\u001b[0;34m]\u001b[0m\u001b[0;34m\u001b[0m\u001b[0;34m\u001b[0m\u001b[0m\n\u001b[1;32m    258\u001b[0m \u001b[0;34m\u001b[0m\u001b[0m\n\u001b[0;32m--> 259\u001b[0;31m                 \u001b[0mself\u001b[0m\u001b[0;34m.\u001b[0m\u001b[0mtae_runner\u001b[0m\u001b[0;34m.\u001b[0m\u001b[0msubmit_run\u001b[0m\u001b[0;34m(\u001b[0m\u001b[0mrun_info\u001b[0m\u001b[0;34m=\u001b[0m\u001b[0mrun_info\u001b[0m\u001b[0;34m)\u001b[0m\u001b[0;34m\u001b[0m\u001b[0;34m\u001b[0m\u001b[0m\n\u001b[0m\u001b[1;32m    260\u001b[0m \u001b[0;34m\u001b[0m\u001b[0m\n\u001b[1;32m    261\u001b[0m                 \u001b[0;31m# There are 2 criteria that the stats object uses to know\u001b[0m\u001b[0;34m\u001b[0m\u001b[0;34m\u001b[0m\u001b[0;34m\u001b[0m\u001b[0m\n",
      "\u001b[0;32m~/miniconda3/envs/TPS-MAR/lib/python3.9/site-packages/smac/tae/dask_runner.py\u001b[0m in \u001b[0;36msubmit_run\u001b[0;34m(self, run_info)\u001b[0m\n\u001b[1;32m    141\u001b[0m         \u001b[0;31m# Check for resources or block till one is available\u001b[0m\u001b[0;34m\u001b[0m\u001b[0;34m\u001b[0m\u001b[0;34m\u001b[0m\u001b[0m\n\u001b[1;32m    142\u001b[0m         \u001b[0;32mif\u001b[0m \u001b[0;32mnot\u001b[0m \u001b[0mself\u001b[0m\u001b[0;34m.\u001b[0m\u001b[0m_workers_available\u001b[0m\u001b[0;34m(\u001b[0m\u001b[0;34m)\u001b[0m\u001b[0;34m:\u001b[0m\u001b[0;34m\u001b[0m\u001b[0;34m\u001b[0m\u001b[0m\n\u001b[0;32m--> 143\u001b[0;31m             \u001b[0mwait\u001b[0m\u001b[0;34m(\u001b[0m\u001b[0mself\u001b[0m\u001b[0;34m.\u001b[0m\u001b[0mfutures\u001b[0m\u001b[0;34m,\u001b[0m \u001b[0mreturn_when\u001b[0m\u001b[0;34m=\u001b[0m\u001b[0;34m'FIRST_COMPLETED'\u001b[0m\u001b[0;34m)\u001b[0m\u001b[0;34m.\u001b[0m\u001b[0mdone\u001b[0m\u001b[0;34m\u001b[0m\u001b[0;34m\u001b[0m\u001b[0m\n\u001b[0m\u001b[1;32m    144\u001b[0m             \u001b[0mself\u001b[0m\u001b[0;34m.\u001b[0m\u001b[0m_extract_completed_runs_from_futures\u001b[0m\u001b[0;34m(\u001b[0m\u001b[0;34m)\u001b[0m\u001b[0;34m\u001b[0m\u001b[0;34m\u001b[0m\u001b[0m\n\u001b[1;32m    145\u001b[0m \u001b[0;34m\u001b[0m\u001b[0m\n",
      "\u001b[0;32m~/miniconda3/envs/TPS-MAR/lib/python3.9/site-packages/distributed/client.py\u001b[0m in \u001b[0;36mwait\u001b[0;34m(fs, timeout, return_when)\u001b[0m\n\u001b[1;32m   4121\u001b[0m     \"\"\"\n\u001b[1;32m   4122\u001b[0m     \u001b[0mclient\u001b[0m \u001b[0;34m=\u001b[0m \u001b[0mdefault_client\u001b[0m\u001b[0;34m(\u001b[0m\u001b[0;34m)\u001b[0m\u001b[0;34m\u001b[0m\u001b[0;34m\u001b[0m\u001b[0m\n\u001b[0;32m-> 4123\u001b[0;31m     \u001b[0mresult\u001b[0m \u001b[0;34m=\u001b[0m \u001b[0mclient\u001b[0m\u001b[0;34m.\u001b[0m\u001b[0msync\u001b[0m\u001b[0;34m(\u001b[0m\u001b[0m_wait\u001b[0m\u001b[0;34m,\u001b[0m \u001b[0mfs\u001b[0m\u001b[0;34m,\u001b[0m \u001b[0mtimeout\u001b[0m\u001b[0;34m=\u001b[0m\u001b[0mtimeout\u001b[0m\u001b[0;34m,\u001b[0m \u001b[0mreturn_when\u001b[0m\u001b[0;34m=\u001b[0m\u001b[0mreturn_when\u001b[0m\u001b[0;34m)\u001b[0m\u001b[0;34m\u001b[0m\u001b[0;34m\u001b[0m\u001b[0m\n\u001b[0m\u001b[1;32m   4124\u001b[0m     \u001b[0;32mreturn\u001b[0m \u001b[0mresult\u001b[0m\u001b[0;34m\u001b[0m\u001b[0;34m\u001b[0m\u001b[0m\n\u001b[1;32m   4125\u001b[0m \u001b[0;34m\u001b[0m\u001b[0m\n",
      "\u001b[0;32m~/miniconda3/envs/TPS-MAR/lib/python3.9/site-packages/distributed/client.py\u001b[0m in \u001b[0;36msync\u001b[0;34m(self, func, asynchronous, callback_timeout, *args, **kwargs)\u001b[0m\n\u001b[1;32m    835\u001b[0m             \u001b[0;32mreturn\u001b[0m \u001b[0mfuture\u001b[0m\u001b[0;34m\u001b[0m\u001b[0;34m\u001b[0m\u001b[0m\n\u001b[1;32m    836\u001b[0m         \u001b[0;32melse\u001b[0m\u001b[0;34m:\u001b[0m\u001b[0;34m\u001b[0m\u001b[0;34m\u001b[0m\u001b[0m\n\u001b[0;32m--> 837\u001b[0;31m             return sync(\n\u001b[0m\u001b[1;32m    838\u001b[0m                 \u001b[0mself\u001b[0m\u001b[0;34m.\u001b[0m\u001b[0mloop\u001b[0m\u001b[0;34m,\u001b[0m \u001b[0mfunc\u001b[0m\u001b[0;34m,\u001b[0m \u001b[0;34m*\u001b[0m\u001b[0margs\u001b[0m\u001b[0;34m,\u001b[0m \u001b[0mcallback_timeout\u001b[0m\u001b[0;34m=\u001b[0m\u001b[0mcallback_timeout\u001b[0m\u001b[0;34m,\u001b[0m \u001b[0;34m**\u001b[0m\u001b[0mkwargs\u001b[0m\u001b[0;34m\u001b[0m\u001b[0;34m\u001b[0m\u001b[0m\n\u001b[1;32m    839\u001b[0m             )\n",
      "\u001b[0;32m~/miniconda3/envs/TPS-MAR/lib/python3.9/site-packages/distributed/utils.py\u001b[0m in \u001b[0;36msync\u001b[0;34m(loop, func, callback_timeout, *args, **kwargs)\u001b[0m\n\u001b[1;32m    346\u001b[0m     \u001b[0;32melse\u001b[0m\u001b[0;34m:\u001b[0m\u001b[0;34m\u001b[0m\u001b[0;34m\u001b[0m\u001b[0m\n\u001b[1;32m    347\u001b[0m         \u001b[0;32mwhile\u001b[0m \u001b[0;32mnot\u001b[0m \u001b[0me\u001b[0m\u001b[0;34m.\u001b[0m\u001b[0mis_set\u001b[0m\u001b[0;34m(\u001b[0m\u001b[0;34m)\u001b[0m\u001b[0;34m:\u001b[0m\u001b[0;34m\u001b[0m\u001b[0;34m\u001b[0m\u001b[0m\n\u001b[0;32m--> 348\u001b[0;31m             \u001b[0me\u001b[0m\u001b[0;34m.\u001b[0m\u001b[0mwait\u001b[0m\u001b[0;34m(\u001b[0m\u001b[0;36m10\u001b[0m\u001b[0;34m)\u001b[0m\u001b[0;34m\u001b[0m\u001b[0;34m\u001b[0m\u001b[0m\n\u001b[0m\u001b[1;32m    349\u001b[0m     \u001b[0;32mif\u001b[0m \u001b[0merror\u001b[0m\u001b[0;34m[\u001b[0m\u001b[0;36m0\u001b[0m\u001b[0;34m]\u001b[0m\u001b[0;34m:\u001b[0m\u001b[0;34m\u001b[0m\u001b[0;34m\u001b[0m\u001b[0m\n\u001b[1;32m    350\u001b[0m         \u001b[0mtyp\u001b[0m\u001b[0;34m,\u001b[0m \u001b[0mexc\u001b[0m\u001b[0;34m,\u001b[0m \u001b[0mtb\u001b[0m \u001b[0;34m=\u001b[0m \u001b[0merror\u001b[0m\u001b[0;34m[\u001b[0m\u001b[0;36m0\u001b[0m\u001b[0;34m]\u001b[0m\u001b[0;34m\u001b[0m\u001b[0;34m\u001b[0m\u001b[0m\n",
      "\u001b[0;32m~/miniconda3/envs/TPS-MAR/lib/python3.9/threading.py\u001b[0m in \u001b[0;36mwait\u001b[0;34m(self, timeout)\u001b[0m\n\u001b[1;32m    572\u001b[0m             \u001b[0msignaled\u001b[0m \u001b[0;34m=\u001b[0m \u001b[0mself\u001b[0m\u001b[0;34m.\u001b[0m\u001b[0m_flag\u001b[0m\u001b[0;34m\u001b[0m\u001b[0;34m\u001b[0m\u001b[0m\n\u001b[1;32m    573\u001b[0m             \u001b[0;32mif\u001b[0m \u001b[0;32mnot\u001b[0m \u001b[0msignaled\u001b[0m\u001b[0;34m:\u001b[0m\u001b[0;34m\u001b[0m\u001b[0;34m\u001b[0m\u001b[0m\n\u001b[0;32m--> 574\u001b[0;31m                 \u001b[0msignaled\u001b[0m \u001b[0;34m=\u001b[0m \u001b[0mself\u001b[0m\u001b[0;34m.\u001b[0m\u001b[0m_cond\u001b[0m\u001b[0;34m.\u001b[0m\u001b[0mwait\u001b[0m\u001b[0;34m(\u001b[0m\u001b[0mtimeout\u001b[0m\u001b[0;34m)\u001b[0m\u001b[0;34m\u001b[0m\u001b[0;34m\u001b[0m\u001b[0m\n\u001b[0m\u001b[1;32m    575\u001b[0m             \u001b[0;32mreturn\u001b[0m \u001b[0msignaled\u001b[0m\u001b[0;34m\u001b[0m\u001b[0;34m\u001b[0m\u001b[0m\n\u001b[1;32m    576\u001b[0m \u001b[0;34m\u001b[0m\u001b[0m\n",
      "\u001b[0;32m~/miniconda3/envs/TPS-MAR/lib/python3.9/threading.py\u001b[0m in \u001b[0;36mwait\u001b[0;34m(self, timeout)\u001b[0m\n\u001b[1;32m    314\u001b[0m             \u001b[0;32melse\u001b[0m\u001b[0;34m:\u001b[0m\u001b[0;34m\u001b[0m\u001b[0;34m\u001b[0m\u001b[0m\n\u001b[1;32m    315\u001b[0m                 \u001b[0;32mif\u001b[0m \u001b[0mtimeout\u001b[0m \u001b[0;34m>\u001b[0m \u001b[0;36m0\u001b[0m\u001b[0;34m:\u001b[0m\u001b[0;34m\u001b[0m\u001b[0;34m\u001b[0m\u001b[0m\n\u001b[0;32m--> 316\u001b[0;31m                     \u001b[0mgotit\u001b[0m \u001b[0;34m=\u001b[0m \u001b[0mwaiter\u001b[0m\u001b[0;34m.\u001b[0m\u001b[0macquire\u001b[0m\u001b[0;34m(\u001b[0m\u001b[0;32mTrue\u001b[0m\u001b[0;34m,\u001b[0m \u001b[0mtimeout\u001b[0m\u001b[0;34m)\u001b[0m\u001b[0;34m\u001b[0m\u001b[0;34m\u001b[0m\u001b[0m\n\u001b[0m\u001b[1;32m    317\u001b[0m                 \u001b[0;32melse\u001b[0m\u001b[0;34m:\u001b[0m\u001b[0;34m\u001b[0m\u001b[0;34m\u001b[0m\u001b[0m\n\u001b[1;32m    318\u001b[0m                     \u001b[0mgotit\u001b[0m \u001b[0;34m=\u001b[0m \u001b[0mwaiter\u001b[0m\u001b[0;34m.\u001b[0m\u001b[0macquire\u001b[0m\u001b[0;34m(\u001b[0m\u001b[0;32mFalse\u001b[0m\u001b[0;34m)\u001b[0m\u001b[0;34m\u001b[0m\u001b[0;34m\u001b[0m\u001b[0m\n",
      "\u001b[0;31mKeyboardInterrupt\u001b[0m: "
     ]
    }
   ],
   "source": [
    "# trying automl\n",
    "import autosklearn.classification\n",
    "clf= autosklearn.classification.AutoSklearnClassifier(n_jobs=2)\n",
    "print(auc_train_test(clf, x_train, x_test, y_train, y_test))"
   ]
  },
  {
   "cell_type": "code",
   "execution_count": 67,
   "id": "false-export",
   "metadata": {},
   "outputs": [
    {
     "name": "stdout",
     "output_type": "stream",
     "text": [
      "(225000, 30) (75000, 30)\n",
      "        cat0  cat1  cat2  cat3  cat4  cat5  cat6  cat7  cat8  cat9  ...  \\\n",
      "277882     0     8     0     1     4    31     0    46    19     0  ...   \n",
      "115779     0    11     8     1     6    33     0    47    60     0  ...   \n",
      "293722     1     7     0     0     5    33     0    43    23     2  ...   \n",
      "20246      0    11     2     1     4    33     0    30    38     0  ...   \n",
      "33503      0     5     0     0     5    33     0     8    45     4  ...   \n",
      "...      ...   ...   ...   ...   ...   ...   ...   ...   ...   ...  ...   \n",
      "126546     1    10     0     0     4    33     0    15    49     2  ...   \n",
      "168458     0     6     0     0     6    33     2    28    19     0  ...   \n",
      "162007     0     5     0     0     7    33     0    35    45     4  ...   \n",
      "167093     0     9     3     1     6    33     0    19     3     0  ...   \n",
      "96566      1    10     0     0     4    33     0    19    55     5  ...   \n",
      "\n",
      "           cont1     cont2     cont3     cont4     cont5     cont6     cont7  \\\n",
      "277882  0.196292  0.280167  0.317093  0.223662  0.296448  0.507041  0.202975   \n",
      "115779  0.533440  0.794117  0.835390  0.356651  0.731705  0.212606  0.819749   \n",
      "293722  0.685650  0.698849  0.567436  0.359166  0.358073  0.692506  0.359722   \n",
      "20246   0.312497  0.379752  0.284742  0.786200  0.487750  0.378202  0.400108   \n",
      "33503   0.556593  0.541285  0.258199  0.224318  0.820214  0.952891  0.358398   \n",
      "...          ...       ...       ...       ...       ...       ...       ...   \n",
      "126546  0.797880  0.754140  0.598990  0.285723  0.799245  0.436266  0.508777   \n",
      "168458  0.779673  0.952501  0.366472  0.794833  0.679240  0.786280  0.593114   \n",
      "162007  0.570189  0.613578  0.330717  0.355415  0.249879  0.610981  0.501445   \n",
      "167093  0.784722  0.790360  0.853959  0.726192  0.795053  0.296995  0.792447   \n",
      "96566   0.744471  0.667999  0.779400  0.737762  0.554495  0.238203  0.866534   \n",
      "\n",
      "           cont8     cont9    cont10  \n",
      "277882  0.245658  0.256387  0.368651  \n",
      "115779  0.727073  0.525207  0.944322  \n",
      "293722  0.469461  0.551195  0.373839  \n",
      "20246   0.356918  0.279910  0.531112  \n",
      "33503   0.939908  0.239056  0.387202  \n",
      "...          ...       ...       ...  \n",
      "126546  0.353885  0.986091  0.389740  \n",
      "168458  1.014074  0.488465  0.521025  \n",
      "162007  0.850238  0.510997  0.540732  \n",
      "167093  0.753681  0.960672  0.655771  \n",
      "96566   0.470285  0.733086  0.930492  \n",
      "\n",
      "[225000 rows x 30 columns]\n"
     ]
    },
    {
     "name": "stderr",
     "output_type": "stream",
     "text": [
      "/root/miniconda3/envs/TPS-MAR/lib/python3.9/site-packages/lightgbm/basic.py:1075: UserWarning: categorical_feature keyword has been found in `params` and will be ignored.\n",
      "Please use categorical_feature argument of the Dataset constructor to pass this parameter.\n",
      "  warnings.warn('{0} keyword has been found in `params` and will be ignored.\\n'\n"
     ]
    },
    {
     "name": "stdout",
     "output_type": "stream",
     "text": [
      "0.8904548227971474\n"
     ]
    }
   ],
   "source": [
    "from lightgbm import LGBMClassifier\n",
    "from sklearn.model_selection import train_test_split\n",
    "from category_encoders import TargetEncoder, WOEEncoder, CountEncoder\n",
    "from sklearn import preprocessing\n",
    "\n",
    "\n",
    "def encode(enc, x_train, y_train, x_test):\n",
    "    x_train_transformed = enc.fit_transform(x_train, y_train)\n",
    "    x_test_transformed = enc.transform(x_test)\n",
    "    return x_train_transformed, x_test_transformed\n",
    "\n",
    "\n",
    "df_train = pd.read_csv(\"train.csv\")\n",
    "\n",
    "# df_train[cat_features] = df_train[cat_features].astype('category')\n",
    "# df_train[\"target\"] = df_train[\"target\"].astype('category')\n",
    "\n",
    "for f in df_train.columns:\n",
    "    if f.startswith(\"cat\"):\n",
    "        le = preprocessing.LabelEncoder()\n",
    "        df_train.loc[:, f] = le.fit_transform(df_train.loc[:, f])\n",
    "        \n",
    "# print(df_train[features[2]])\n",
    "\n",
    "x_train, x_test, y_train, y_test = train_test_split(df_train.loc[:, features], df_train.loc[:, \"target\"], random_state=10, stratify=df_train.loc[:, \"target\"])\n",
    "print(x_train.shape, x_test.shape)\n",
    "print(x_train)\n",
    "te = TargetEncoder(cols=cat_features)\n",
    "x1, x2 = encode(te, x_train.loc[:, cat_features], y_train, x_test.loc[:, cat_features])\n",
    "print(x1.shape, x2.shape)\n",
    "\n",
    "x_train = x_train.join(x1, lsuffix=\"\", rsuffix=\"_enc\")\n",
    "x_test = x_test.join(x2, lsuffix=\"\", rsuffix=\"_enc\")\n",
    "\n",
    "\n",
    "\n",
    "# x_train[cat_features] = x_train[cat_features].astype('category')\n",
    "# y_train = y_train.astype('category')\n",
    "# x_test[cat_features] = x_test[cat_features].astype('category')\n",
    "# y_test = y_test.astype('category')\n",
    "\n",
    "# print(x_train.shape, y_train.shape)\n",
    "# print(x_test.shape, y_test.shape)\n",
    "\n",
    "cat_features_idx = [i for i in range(len(x_train.columns)) if x_train.columns[i].startswith(\"cat\") == True] # have to specify idx for lgbm, not working with columns name weird\n",
    "clf = LGBMClassifier(n_jobs=-1, categorical_feature=cat_features_idx)\n",
    "print(auc_train_test(clf, x_train, x_test, y_train, y_test))\n",
    "# without target encoding = 0.8904548227971474\n",
    "# with target encoding = 0.8907654298691738"
   ]
  },
  {
   "cell_type": "code",
   "execution_count": 59,
   "id": "silent-cycling",
   "metadata": {},
   "outputs": [
    {
     "name": "stdout",
     "output_type": "stream",
     "text": [
      "['name:cat0', 'name:cat1', 'name:cat2', 'name:cat3', 'name:cat4', 'name:cat5', 'name:cat6', 'name:cat7', 'name:cat8', 'name:cat9', 'name:cat10', 'name:cat11', 'name:cat12', 'name:cat13', 'name:cat14', 'name:cat15', 'name:cat16', 'name:cat17', 'name:cat18']\n"
     ]
    }
   ],
   "source": [
    "print(list(map(lambda x: \"name:\" + x, cat_features)))"
   ]
  }
 ],
 "metadata": {
  "kernelspec": {
   "display_name": "Python 3",
   "language": "python",
   "name": "python3"
  },
  "language_info": {
   "codemirror_mode": {
    "name": "ipython",
    "version": 3
   },
   "file_extension": ".py",
   "mimetype": "text/x-python",
   "name": "python",
   "nbconvert_exporter": "python",
   "pygments_lexer": "ipython3",
   "version": "3.9.2"
  }
 },
 "nbformat": 4,
 "nbformat_minor": 5
}
